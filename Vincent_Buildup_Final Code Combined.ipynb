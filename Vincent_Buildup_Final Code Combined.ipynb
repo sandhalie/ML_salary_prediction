{
 "cells": [
  {
   "cell_type": "code",
   "execution_count": 72,
   "id": "1231a68f",
   "metadata": {
    "ExecuteTime": {
     "end_time": "2023-08-08T13:37:40.803304Z",
     "start_time": "2023-08-08T13:37:40.723520Z"
    }
   },
   "outputs": [],
   "source": [
    "# Importing the libraries\n",
    "import pandas as pd\n",
    "import numpy as np\n",
    "import plotly.graph_objects as go\n",
    "import seaborn as sns\n",
    "import matplotlib.pyplot as plt\n",
    "import seaborn as sns\n",
    "from mpl_toolkits.mplot3d import Axes3D\n",
    "\n",
    "from sklearn.metrics import confusion_matrix, classification_report,r2_score, mean_squared_error\n",
    "from sklearn.model_selection import train_test_split, GridSearchCV\n",
    "from sklearn.linear_model import LinearRegression\n",
    "from sklearn.preprocessing import LabelEncoder\n",
    "from sklearn.ensemble import RandomForestRegressor\n",
    "\n",
    "\n",
    "%matplotlib inline"
   ]
  },
  {
   "cell_type": "code",
   "execution_count": 73,
   "id": "916b14f4",
   "metadata": {
    "ExecuteTime": {
     "end_time": "2023-08-08T13:37:40.864907Z",
     "start_time": "2023-08-08T13:37:40.729325Z"
    }
   },
   "outputs": [
    {
     "name": "stdout",
     "output_type": "stream",
     "text": [
      "      Age  gender Education Level                      Job Title  \\\n",
      "0    32.0    Male      Bachelor's              Software Engineer   \n",
      "1    28.0  Female        Master's                   Data Analyst   \n",
      "2    45.0    Male             PhD                 Senior Manager   \n",
      "3    36.0  Female      Bachelor's                Sales Associate   \n",
      "4    52.0    Male        Master's                       Director   \n",
      "..    ...     ...             ...                            ...   \n",
      "370  35.0  Female      Bachelor's       Senior Marketing Analyst   \n",
      "371  43.0    Male        Master's         Director of Operations   \n",
      "372  29.0  Female      Bachelor's         Junior Project Manager   \n",
      "373  34.0    Male      Bachelor's  Senior Operations Coordinator   \n",
      "374  44.0  Female             PhD        Senior Business Analyst   \n",
      "\n",
      "     Years of Experience    salary                 Department  Seniority  \n",
      "0                    5.0   90000.0  IT and Technical services        0.0  \n",
      "1                    3.0   65000.0  IT and Technical services        0.0  \n",
      "2                   15.0  150000.0      HR and Administration        0.0  \n",
      "3                    7.0   60000.0                      Sales        0.0  \n",
      "4                   20.0  200000.0      HR and Administration        0.0  \n",
      "..                   ...       ...                        ...        ...  \n",
      "370                  8.0   85000.0     Marketing and Creative        0.0  \n",
      "371                 19.0  170000.0      HR and Administration        0.0  \n",
      "372                  2.0   40000.0  IT and Technical services        0.0  \n",
      "373                  7.0   90000.0      HR and Administration        0.0  \n",
      "374                 15.0  150000.0  IT and Technical services        0.0  \n",
      "\n",
      "[375 rows x 8 columns]\n"
     ]
    }
   ],
   "source": [
    "from sqlalchemy import create_engine\n",
    "import pandas as pd\n",
    "\n",
    "# Create a connection to the database\n",
    "# Read data\n",
    "df = pd.read_csv(\"Salary Data.csv\")\n",
    "df.rename(columns={'Salary': 'salary', 'Education_Level': 'education_level', 'Gender' : 'gender', 'Years_Exp' : 'years_of_experience'}, inplace=True)\n",
    "\n",
    "# Display the dataframe\n",
    "print(df)\n"
   ]
  },
  {
   "cell_type": "code",
   "execution_count": 74,
   "id": "d9b02f6f",
   "metadata": {
    "ExecuteTime": {
     "end_time": "2023-08-08T13:37:40.892501Z",
     "start_time": "2023-08-08T13:37:40.740432Z"
    }
   },
   "outputs": [
    {
     "name": "stdout",
     "output_type": "stream",
     "text": [
      "\n",
      "Cleaned DataFrame:\n",
      "    Age  gender Education_Level          Job_Title  Years_Exp    salary  \\\n",
      "0  32.0    Male      Bachelor's  Software Engineer        5.0   90000.0   \n",
      "1  28.0  Female        Master's       Data Analyst        3.0   65000.0   \n",
      "2  45.0    Male             PhD     Senior Manager       15.0  150000.0   \n",
      "3  36.0  Female      Bachelor's    Sales Associate        7.0   60000.0   \n",
      "4  52.0    Male        Master's           Director       20.0  200000.0   \n",
      "\n",
      "                  Department  Seniority  \n",
      "0  IT and Technical services        0.0  \n",
      "1  IT and Technical services        0.0  \n",
      "2      HR and Administration        0.0  \n",
      "3                      Sales        0.0  \n",
      "4      HR and Administration        0.0  \n"
     ]
    }
   ],
   "source": [
    "# Clean the data\n",
    "df = df.dropna()\n",
    "\n",
    "# Rename columns for clarity\n",
    "df.rename(columns={\n",
    "    'Years of Experience': 'Years_Exp',\n",
    "    'Education Level': 'Education_Level',\n",
    "    'Job Title': 'Job_Title'\n",
    "}, inplace=True)\n",
    "\n",
    "# Print the cleaned DataFrame\n",
    "print(\"\\nCleaned DataFrame:\")\n",
    "print(df.head())\n"
   ]
  },
  {
   "cell_type": "code",
   "execution_count": 75,
   "id": "30ecc037",
   "metadata": {
    "ExecuteTime": {
     "end_time": "2023-08-08T13:37:40.892789Z",
     "start_time": "2023-08-08T13:37:40.752157Z"
    }
   },
   "outputs": [
    {
     "name": "stdout",
     "output_type": "stream",
     "text": [
      "<class 'pandas.core.frame.DataFrame'>\n",
      "Int64Index: 373 entries, 0 to 374\n",
      "Data columns (total 8 columns):\n",
      " #   Column           Non-Null Count  Dtype  \n",
      "---  ------           --------------  -----  \n",
      " 0   Age              373 non-null    float64\n",
      " 1   gender           373 non-null    object \n",
      " 2   Education_Level  373 non-null    object \n",
      " 3   Job_Title        373 non-null    object \n",
      " 4   Years_Exp        373 non-null    float64\n",
      " 5   salary           373 non-null    float64\n",
      " 6   Department       373 non-null    object \n",
      " 7   Seniority        373 non-null    float64\n",
      "dtypes: float64(4), object(4)\n",
      "memory usage: 26.2+ KB\n"
     ]
    }
   ],
   "source": [
    "df.info()"
   ]
  },
  {
   "cell_type": "markdown",
   "id": "4ae209eb",
   "metadata": {},
   "source": [
    "Data Analysis"
   ]
  },
  {
   "cell_type": "code",
   "execution_count": 76,
   "id": "5d12ce1c",
   "metadata": {
    "ExecuteTime": {
     "end_time": "2023-08-08T13:37:40.895277Z",
     "start_time": "2023-08-08T13:37:40.756716Z"
    }
   },
   "outputs": [
    {
     "name": "stdout",
     "output_type": "stream",
     "text": [
      "\n",
      "Average Annual Salary: 100577.34584450402\n"
     ]
    }
   ],
   "source": [
    "# Calculate the average salary\n",
    "average_salary = df['salary'].mean()\n",
    "\n",
    "# Print the average salary\n",
    "print(\"\\nAverage Annual Salary:\", average_salary)"
   ]
  },
  {
   "cell_type": "code",
   "execution_count": 77,
   "id": "9a571568",
   "metadata": {
    "ExecuteTime": {
     "end_time": "2023-08-08T13:37:40.895770Z",
     "start_time": "2023-08-08T13:37:40.761224Z"
    }
   },
   "outputs": [
    {
     "name": "stdout",
     "output_type": "stream",
     "text": [
      "\n",
      "Standard Deviation of Annual Salary: 48240.0134818827\n"
     ]
    }
   ],
   "source": [
    "# Calculate the standard deviation of 'Annual_Salary'\n",
    "salary_std_deviation = df['salary'].std()\n",
    "\n",
    "# Print the standard deviation\n",
    "print(\"\\nStandard Deviation of Annual Salary:\", salary_std_deviation)"
   ]
  },
  {
   "cell_type": "code",
   "execution_count": 78,
   "id": "40f23042",
   "metadata": {
    "ExecuteTime": {
     "end_time": "2023-08-08T13:37:40.896147Z",
     "start_time": "2023-08-08T13:37:40.765525Z"
    }
   },
   "outputs": [
    {
     "name": "stdout",
     "output_type": "stream",
     "text": [
      "\n",
      "Average Annual Salary for Male: 103867.78350515464\n"
     ]
    }
   ],
   "source": [
    "# Calculate the average salary for the 'Male' category\n",
    "average_salary_male = df[df['gender'] == 'Male']['salary'].mean()\n",
    "\n",
    "# Print the average salary for Male\n",
    "print(\"\\nAverage Annual Salary for Male:\", average_salary_male)"
   ]
  },
  {
   "cell_type": "code",
   "execution_count": 79,
   "id": "4e1e50d5",
   "metadata": {
    "ExecuteTime": {
     "end_time": "2023-08-08T13:37:40.896273Z",
     "start_time": "2023-08-08T13:37:40.769697Z"
    }
   },
   "outputs": [
    {
     "name": "stdout",
     "output_type": "stream",
     "text": [
      "\n",
      "Average annual Salary for Female: 97011.17318435754\n"
     ]
    }
   ],
   "source": [
    "# Calculate the average salary for the 'Female' category\n",
    "average_salary_female = df[df['gender'] == 'Female']['salary'].mean()\n",
    "\n",
    "# Print the average salary for Female\n",
    "print(\"\\nAverage annual Salary for Female:\", average_salary_female)"
   ]
  },
  {
   "cell_type": "code",
   "execution_count": 80,
   "id": "009005eb",
   "metadata": {
    "ExecuteTime": {
     "end_time": "2023-08-08T13:37:40.896378Z",
     "start_time": "2023-08-08T13:37:40.774370Z"
    }
   },
   "outputs": [
    {
     "name": "stdout",
     "output_type": "stream",
     "text": [
      "\n",
      "Average  Annual Salary by Education Level:\n",
      "Education_Level\n",
      "Bachelor's     74756.03\n",
      "Master's      129795.92\n",
      "PhD           157843.14\n",
      "Name: salary, dtype: float64\n"
     ]
    }
   ],
   "source": [
    "# Calculate the average 'Annual_Salary' for each 'Education_Level' category\n",
    "average_salary_by_education = df.groupby('Education_Level')['salary'].mean()\n",
    "# Round the average salary to two decimal places\n",
    "average_salary_by_education = average_salary_by_education.round(2)\n",
    "# Print the average salary for each education level category\n",
    "print(\"\\nAverage  Annual Salary by Education Level:\")\n",
    "print(average_salary_by_education)"
   ]
  },
  {
   "cell_type": "code",
   "execution_count": 81,
   "id": "78ac240e",
   "metadata": {
    "ExecuteTime": {
     "end_time": "2023-08-08T13:37:40.896490Z",
     "start_time": "2023-08-08T13:37:40.779808Z"
    }
   },
   "outputs": [
    {
     "name": "stdout",
     "output_type": "stream",
     "text": [
      "Average Annual Salary for both Male and Female by Education Level:\n",
      "gender  Education_Level\n",
      "Female  Bachelor's          71019.417476\n",
      "        Master's           120200.000000\n",
      "        PhD                155384.615385\n",
      "Male    Bachelor's          77936.776860\n",
      "        Master's           139791.666667\n",
      "        PhD                160400.000000\n",
      "Name: salary, dtype: float64\n"
     ]
    }
   ],
   "source": [
    "# Calculate the average 'Annual_Salary' for each 'Education_Level' for Male and Female\n",
    "average_salary_by_gender_education = df.groupby(['gender', 'Education_Level'])['salary'].mean()\n",
    "\n",
    "# Display the results\n",
    "print(\"Average Annual Salary for both Male and Female by Education Level:\")\n",
    "print(average_salary_by_gender_education)"
   ]
  },
  {
   "cell_type": "code",
   "execution_count": 82,
   "id": "45c8daef",
   "metadata": {
    "ExecuteTime": {
     "end_time": "2023-08-08T13:37:40.897589Z",
     "start_time": "2023-08-08T13:37:40.783957Z"
    }
   },
   "outputs": [
    {
     "data": {
      "application/vnd.plotly.v1+json": {
       "data": [
        {
         "line": {
          "color": "blue"
         },
         "mode": "lines+markers",
         "name": "Male",
         "x": [
          "Bachelor's",
          "Master's",
          "PhD"
         ],
         "y": [
          77936.78,
          139791.67,
          160400.0
         ],
         "type": "scatter"
        },
        {
         "line": {
          "color": "red"
         },
         "mode": "lines+markers",
         "name": "Female",
         "x": [
          "Bachelor's",
          "Master's",
          "PhD"
         ],
         "y": [
          71019.42,
          120200.0,
          155384.62
         ],
         "type": "scatter"
        },
        {
         "line": {
          "color": "green",
          "dash": "dash"
         },
         "mode": "lines+markers",
         "name": "Overall (All Genders)",
         "x": [
          "Bachelor's",
          "Master's",
          "PhD"
         ],
         "y": [
          74478.1,
          129995.84,
          157892.31
         ],
         "type": "scatter"
        }
       ],
       "layout": {
        "template": {
         "data": {
          "histogram2dcontour": [
           {
            "type": "histogram2dcontour",
            "colorbar": {
             "outlinewidth": 0,
             "ticks": ""
            },
            "colorscale": [
             [
              0.0,
              "#0d0887"
             ],
             [
              0.1111111111111111,
              "#46039f"
             ],
             [
              0.2222222222222222,
              "#7201a8"
             ],
             [
              0.3333333333333333,
              "#9c179e"
             ],
             [
              0.4444444444444444,
              "#bd3786"
             ],
             [
              0.5555555555555556,
              "#d8576b"
             ],
             [
              0.6666666666666666,
              "#ed7953"
             ],
             [
              0.7777777777777778,
              "#fb9f3a"
             ],
             [
              0.8888888888888888,
              "#fdca26"
             ],
             [
              1.0,
              "#f0f921"
             ]
            ]
           }
          ],
          "choropleth": [
           {
            "type": "choropleth",
            "colorbar": {
             "outlinewidth": 0,
             "ticks": ""
            }
           }
          ],
          "histogram2d": [
           {
            "type": "histogram2d",
            "colorbar": {
             "outlinewidth": 0,
             "ticks": ""
            },
            "colorscale": [
             [
              0.0,
              "#0d0887"
             ],
             [
              0.1111111111111111,
              "#46039f"
             ],
             [
              0.2222222222222222,
              "#7201a8"
             ],
             [
              0.3333333333333333,
              "#9c179e"
             ],
             [
              0.4444444444444444,
              "#bd3786"
             ],
             [
              0.5555555555555556,
              "#d8576b"
             ],
             [
              0.6666666666666666,
              "#ed7953"
             ],
             [
              0.7777777777777778,
              "#fb9f3a"
             ],
             [
              0.8888888888888888,
              "#fdca26"
             ],
             [
              1.0,
              "#f0f921"
             ]
            ]
           }
          ],
          "heatmap": [
           {
            "type": "heatmap",
            "colorbar": {
             "outlinewidth": 0,
             "ticks": ""
            },
            "colorscale": [
             [
              0.0,
              "#0d0887"
             ],
             [
              0.1111111111111111,
              "#46039f"
             ],
             [
              0.2222222222222222,
              "#7201a8"
             ],
             [
              0.3333333333333333,
              "#9c179e"
             ],
             [
              0.4444444444444444,
              "#bd3786"
             ],
             [
              0.5555555555555556,
              "#d8576b"
             ],
             [
              0.6666666666666666,
              "#ed7953"
             ],
             [
              0.7777777777777778,
              "#fb9f3a"
             ],
             [
              0.8888888888888888,
              "#fdca26"
             ],
             [
              1.0,
              "#f0f921"
             ]
            ]
           }
          ],
          "heatmapgl": [
           {
            "type": "heatmapgl",
            "colorbar": {
             "outlinewidth": 0,
             "ticks": ""
            },
            "colorscale": [
             [
              0.0,
              "#0d0887"
             ],
             [
              0.1111111111111111,
              "#46039f"
             ],
             [
              0.2222222222222222,
              "#7201a8"
             ],
             [
              0.3333333333333333,
              "#9c179e"
             ],
             [
              0.4444444444444444,
              "#bd3786"
             ],
             [
              0.5555555555555556,
              "#d8576b"
             ],
             [
              0.6666666666666666,
              "#ed7953"
             ],
             [
              0.7777777777777778,
              "#fb9f3a"
             ],
             [
              0.8888888888888888,
              "#fdca26"
             ],
             [
              1.0,
              "#f0f921"
             ]
            ]
           }
          ],
          "contourcarpet": [
           {
            "type": "contourcarpet",
            "colorbar": {
             "outlinewidth": 0,
             "ticks": ""
            }
           }
          ],
          "contour": [
           {
            "type": "contour",
            "colorbar": {
             "outlinewidth": 0,
             "ticks": ""
            },
            "colorscale": [
             [
              0.0,
              "#0d0887"
             ],
             [
              0.1111111111111111,
              "#46039f"
             ],
             [
              0.2222222222222222,
              "#7201a8"
             ],
             [
              0.3333333333333333,
              "#9c179e"
             ],
             [
              0.4444444444444444,
              "#bd3786"
             ],
             [
              0.5555555555555556,
              "#d8576b"
             ],
             [
              0.6666666666666666,
              "#ed7953"
             ],
             [
              0.7777777777777778,
              "#fb9f3a"
             ],
             [
              0.8888888888888888,
              "#fdca26"
             ],
             [
              1.0,
              "#f0f921"
             ]
            ]
           }
          ],
          "surface": [
           {
            "type": "surface",
            "colorbar": {
             "outlinewidth": 0,
             "ticks": ""
            },
            "colorscale": [
             [
              0.0,
              "#0d0887"
             ],
             [
              0.1111111111111111,
              "#46039f"
             ],
             [
              0.2222222222222222,
              "#7201a8"
             ],
             [
              0.3333333333333333,
              "#9c179e"
             ],
             [
              0.4444444444444444,
              "#bd3786"
             ],
             [
              0.5555555555555556,
              "#d8576b"
             ],
             [
              0.6666666666666666,
              "#ed7953"
             ],
             [
              0.7777777777777778,
              "#fb9f3a"
             ],
             [
              0.8888888888888888,
              "#fdca26"
             ],
             [
              1.0,
              "#f0f921"
             ]
            ]
           }
          ],
          "mesh3d": [
           {
            "type": "mesh3d",
            "colorbar": {
             "outlinewidth": 0,
             "ticks": ""
            }
           }
          ],
          "scatter": [
           {
            "marker": {
             "line": {
              "color": "#283442"
             }
            },
            "type": "scatter"
           }
          ],
          "parcoords": [
           {
            "type": "parcoords",
            "line": {
             "colorbar": {
              "outlinewidth": 0,
              "ticks": ""
             }
            }
           }
          ],
          "scatterpolargl": [
           {
            "type": "scatterpolargl",
            "marker": {
             "colorbar": {
              "outlinewidth": 0,
              "ticks": ""
             }
            }
           }
          ],
          "bar": [
           {
            "error_x": {
             "color": "#f2f5fa"
            },
            "error_y": {
             "color": "#f2f5fa"
            },
            "marker": {
             "line": {
              "color": "rgb(17,17,17)",
              "width": 0.5
             },
             "pattern": {
              "fillmode": "overlay",
              "size": 10,
              "solidity": 0.2
             }
            },
            "type": "bar"
           }
          ],
          "scattergeo": [
           {
            "type": "scattergeo",
            "marker": {
             "colorbar": {
              "outlinewidth": 0,
              "ticks": ""
             }
            }
           }
          ],
          "scatterpolar": [
           {
            "type": "scatterpolar",
            "marker": {
             "colorbar": {
              "outlinewidth": 0,
              "ticks": ""
             }
            }
           }
          ],
          "histogram": [
           {
            "marker": {
             "pattern": {
              "fillmode": "overlay",
              "size": 10,
              "solidity": 0.2
             }
            },
            "type": "histogram"
           }
          ],
          "scattergl": [
           {
            "marker": {
             "line": {
              "color": "#283442"
             }
            },
            "type": "scattergl"
           }
          ],
          "scatter3d": [
           {
            "type": "scatter3d",
            "line": {
             "colorbar": {
              "outlinewidth": 0,
              "ticks": ""
             }
            },
            "marker": {
             "colorbar": {
              "outlinewidth": 0,
              "ticks": ""
             }
            }
           }
          ],
          "scattermapbox": [
           {
            "type": "scattermapbox",
            "marker": {
             "colorbar": {
              "outlinewidth": 0,
              "ticks": ""
             }
            }
           }
          ],
          "scatterternary": [
           {
            "type": "scatterternary",
            "marker": {
             "colorbar": {
              "outlinewidth": 0,
              "ticks": ""
             }
            }
           }
          ],
          "scattercarpet": [
           {
            "type": "scattercarpet",
            "marker": {
             "colorbar": {
              "outlinewidth": 0,
              "ticks": ""
             }
            }
           }
          ],
          "carpet": [
           {
            "aaxis": {
             "endlinecolor": "#A2B1C6",
             "gridcolor": "#506784",
             "linecolor": "#506784",
             "minorgridcolor": "#506784",
             "startlinecolor": "#A2B1C6"
            },
            "baxis": {
             "endlinecolor": "#A2B1C6",
             "gridcolor": "#506784",
             "linecolor": "#506784",
             "minorgridcolor": "#506784",
             "startlinecolor": "#A2B1C6"
            },
            "type": "carpet"
           }
          ],
          "table": [
           {
            "cells": {
             "fill": {
              "color": "#506784"
             },
             "line": {
              "color": "rgb(17,17,17)"
             }
            },
            "header": {
             "fill": {
              "color": "#2a3f5f"
             },
             "line": {
              "color": "rgb(17,17,17)"
             }
            },
            "type": "table"
           }
          ],
          "barpolar": [
           {
            "marker": {
             "line": {
              "color": "rgb(17,17,17)",
              "width": 0.5
             },
             "pattern": {
              "fillmode": "overlay",
              "size": 10,
              "solidity": 0.2
             }
            },
            "type": "barpolar"
           }
          ],
          "pie": [
           {
            "automargin": true,
            "type": "pie"
           }
          ]
         },
         "layout": {
          "autotypenumbers": "strict",
          "colorway": [
           "#636efa",
           "#EF553B",
           "#00cc96",
           "#ab63fa",
           "#FFA15A",
           "#19d3f3",
           "#FF6692",
           "#B6E880",
           "#FF97FF",
           "#FECB52"
          ],
          "font": {
           "color": "#f2f5fa"
          },
          "hovermode": "closest",
          "hoverlabel": {
           "align": "left"
          },
          "paper_bgcolor": "rgb(17,17,17)",
          "plot_bgcolor": "rgb(17,17,17)",
          "polar": {
           "bgcolor": "rgb(17,17,17)",
           "angularaxis": {
            "gridcolor": "#506784",
            "linecolor": "#506784",
            "ticks": ""
           },
           "radialaxis": {
            "gridcolor": "#506784",
            "linecolor": "#506784",
            "ticks": ""
           }
          },
          "ternary": {
           "bgcolor": "rgb(17,17,17)",
           "aaxis": {
            "gridcolor": "#506784",
            "linecolor": "#506784",
            "ticks": ""
           },
           "baxis": {
            "gridcolor": "#506784",
            "linecolor": "#506784",
            "ticks": ""
           },
           "caxis": {
            "gridcolor": "#506784",
            "linecolor": "#506784",
            "ticks": ""
           }
          },
          "coloraxis": {
           "colorbar": {
            "outlinewidth": 0,
            "ticks": ""
           }
          },
          "colorscale": {
           "sequential": [
            [
             0.0,
             "#0d0887"
            ],
            [
             0.1111111111111111,
             "#46039f"
            ],
            [
             0.2222222222222222,
             "#7201a8"
            ],
            [
             0.3333333333333333,
             "#9c179e"
            ],
            [
             0.4444444444444444,
             "#bd3786"
            ],
            [
             0.5555555555555556,
             "#d8576b"
            ],
            [
             0.6666666666666666,
             "#ed7953"
            ],
            [
             0.7777777777777778,
             "#fb9f3a"
            ],
            [
             0.8888888888888888,
             "#fdca26"
            ],
            [
             1.0,
             "#f0f921"
            ]
           ],
           "sequentialminus": [
            [
             0.0,
             "#0d0887"
            ],
            [
             0.1111111111111111,
             "#46039f"
            ],
            [
             0.2222222222222222,
             "#7201a8"
            ],
            [
             0.3333333333333333,
             "#9c179e"
            ],
            [
             0.4444444444444444,
             "#bd3786"
            ],
            [
             0.5555555555555556,
             "#d8576b"
            ],
            [
             0.6666666666666666,
             "#ed7953"
            ],
            [
             0.7777777777777778,
             "#fb9f3a"
            ],
            [
             0.8888888888888888,
             "#fdca26"
            ],
            [
             1.0,
             "#f0f921"
            ]
           ],
           "diverging": [
            [
             0,
             "#8e0152"
            ],
            [
             0.1,
             "#c51b7d"
            ],
            [
             0.2,
             "#de77ae"
            ],
            [
             0.3,
             "#f1b6da"
            ],
            [
             0.4,
             "#fde0ef"
            ],
            [
             0.5,
             "#f7f7f7"
            ],
            [
             0.6,
             "#e6f5d0"
            ],
            [
             0.7,
             "#b8e186"
            ],
            [
             0.8,
             "#7fbc41"
            ],
            [
             0.9,
             "#4d9221"
            ],
            [
             1,
             "#276419"
            ]
           ]
          },
          "xaxis": {
           "gridcolor": "#283442",
           "linecolor": "#506784",
           "ticks": "",
           "title": {
            "standoff": 15
           },
           "zerolinecolor": "#283442",
           "automargin": true,
           "zerolinewidth": 2
          },
          "yaxis": {
           "gridcolor": "#283442",
           "linecolor": "#506784",
           "ticks": "",
           "title": {
            "standoff": 15
           },
           "zerolinecolor": "#283442",
           "automargin": true,
           "zerolinewidth": 2
          },
          "scene": {
           "xaxis": {
            "backgroundcolor": "rgb(17,17,17)",
            "gridcolor": "#506784",
            "linecolor": "#506784",
            "showbackground": true,
            "ticks": "",
            "zerolinecolor": "#C8D4E3",
            "gridwidth": 2
           },
           "yaxis": {
            "backgroundcolor": "rgb(17,17,17)",
            "gridcolor": "#506784",
            "linecolor": "#506784",
            "showbackground": true,
            "ticks": "",
            "zerolinecolor": "#C8D4E3",
            "gridwidth": 2
           },
           "zaxis": {
            "backgroundcolor": "rgb(17,17,17)",
            "gridcolor": "#506784",
            "linecolor": "#506784",
            "showbackground": true,
            "ticks": "",
            "zerolinecolor": "#C8D4E3",
            "gridwidth": 2
           }
          },
          "shapedefaults": {
           "line": {
            "color": "#f2f5fa"
           }
          },
          "annotationdefaults": {
           "arrowcolor": "#f2f5fa",
           "arrowhead": 0,
           "arrowwidth": 1
          },
          "geo": {
           "bgcolor": "rgb(17,17,17)",
           "landcolor": "rgb(17,17,17)",
           "subunitcolor": "#506784",
           "showland": true,
           "showlakes": true,
           "lakecolor": "rgb(17,17,17)"
          },
          "title": {
           "x": 0.05
          },
          "updatemenudefaults": {
           "bgcolor": "#506784",
           "borderwidth": 0
          },
          "sliderdefaults": {
           "bgcolor": "#C8D4E3",
           "borderwidth": 1,
           "bordercolor": "rgb(17,17,17)",
           "tickwidth": 0
          },
          "mapbox": {
           "style": "dark"
          }
         }
        },
        "legend": {
         "x": 0.1,
         "y": 0.9
        },
        "title": {
         "text": "Average Annual Salary by Education Level"
        },
        "xaxis": {
         "title": {
          "text": "Education Level"
         }
        },
        "yaxis": {
         "title": {
          "text": "Average Annual Salary"
         }
        },
        "width": 800,
        "height": 500
       },
       "config": {
        "plotlyServerURL": "https://plot.ly"
       }
      },
      "text/html": "<div>                            <div id=\"475e398f-c7a1-4478-a045-4b0ba5439e89\" class=\"plotly-graph-div\" style=\"height:500px; width:800px;\"></div>            <script type=\"text/javascript\">                require([\"plotly\"], function(Plotly) {                    window.PLOTLYENV=window.PLOTLYENV || {};                                    if (document.getElementById(\"475e398f-c7a1-4478-a045-4b0ba5439e89\")) {                    Plotly.newPlot(                        \"475e398f-c7a1-4478-a045-4b0ba5439e89\",                        [{\"line\":{\"color\":\"blue\"},\"mode\":\"lines+markers\",\"name\":\"Male\",\"x\":[\"Bachelor's\",\"Master's\",\"PhD\"],\"y\":[77936.78,139791.67,160400.0],\"type\":\"scatter\"},{\"line\":{\"color\":\"red\"},\"mode\":\"lines+markers\",\"name\":\"Female\",\"x\":[\"Bachelor's\",\"Master's\",\"PhD\"],\"y\":[71019.42,120200.0,155384.62],\"type\":\"scatter\"},{\"line\":{\"color\":\"green\",\"dash\":\"dash\"},\"mode\":\"lines+markers\",\"name\":\"Overall (All Genders)\",\"x\":[\"Bachelor's\",\"Master's\",\"PhD\"],\"y\":[74478.1,129995.84,157892.31],\"type\":\"scatter\"}],                        {\"template\":{\"data\":{\"histogram2dcontour\":[{\"type\":\"histogram2dcontour\",\"colorbar\":{\"outlinewidth\":0,\"ticks\":\"\"},\"colorscale\":[[0.0,\"#0d0887\"],[0.1111111111111111,\"#46039f\"],[0.2222222222222222,\"#7201a8\"],[0.3333333333333333,\"#9c179e\"],[0.4444444444444444,\"#bd3786\"],[0.5555555555555556,\"#d8576b\"],[0.6666666666666666,\"#ed7953\"],[0.7777777777777778,\"#fb9f3a\"],[0.8888888888888888,\"#fdca26\"],[1.0,\"#f0f921\"]]}],\"choropleth\":[{\"type\":\"choropleth\",\"colorbar\":{\"outlinewidth\":0,\"ticks\":\"\"}}],\"histogram2d\":[{\"type\":\"histogram2d\",\"colorbar\":{\"outlinewidth\":0,\"ticks\":\"\"},\"colorscale\":[[0.0,\"#0d0887\"],[0.1111111111111111,\"#46039f\"],[0.2222222222222222,\"#7201a8\"],[0.3333333333333333,\"#9c179e\"],[0.4444444444444444,\"#bd3786\"],[0.5555555555555556,\"#d8576b\"],[0.6666666666666666,\"#ed7953\"],[0.7777777777777778,\"#fb9f3a\"],[0.8888888888888888,\"#fdca26\"],[1.0,\"#f0f921\"]]}],\"heatmap\":[{\"type\":\"heatmap\",\"colorbar\":{\"outlinewidth\":0,\"ticks\":\"\"},\"colorscale\":[[0.0,\"#0d0887\"],[0.1111111111111111,\"#46039f\"],[0.2222222222222222,\"#7201a8\"],[0.3333333333333333,\"#9c179e\"],[0.4444444444444444,\"#bd3786\"],[0.5555555555555556,\"#d8576b\"],[0.6666666666666666,\"#ed7953\"],[0.7777777777777778,\"#fb9f3a\"],[0.8888888888888888,\"#fdca26\"],[1.0,\"#f0f921\"]]}],\"heatmapgl\":[{\"type\":\"heatmapgl\",\"colorbar\":{\"outlinewidth\":0,\"ticks\":\"\"},\"colorscale\":[[0.0,\"#0d0887\"],[0.1111111111111111,\"#46039f\"],[0.2222222222222222,\"#7201a8\"],[0.3333333333333333,\"#9c179e\"],[0.4444444444444444,\"#bd3786\"],[0.5555555555555556,\"#d8576b\"],[0.6666666666666666,\"#ed7953\"],[0.7777777777777778,\"#fb9f3a\"],[0.8888888888888888,\"#fdca26\"],[1.0,\"#f0f921\"]]}],\"contourcarpet\":[{\"type\":\"contourcarpet\",\"colorbar\":{\"outlinewidth\":0,\"ticks\":\"\"}}],\"contour\":[{\"type\":\"contour\",\"colorbar\":{\"outlinewidth\":0,\"ticks\":\"\"},\"colorscale\":[[0.0,\"#0d0887\"],[0.1111111111111111,\"#46039f\"],[0.2222222222222222,\"#7201a8\"],[0.3333333333333333,\"#9c179e\"],[0.4444444444444444,\"#bd3786\"],[0.5555555555555556,\"#d8576b\"],[0.6666666666666666,\"#ed7953\"],[0.7777777777777778,\"#fb9f3a\"],[0.8888888888888888,\"#fdca26\"],[1.0,\"#f0f921\"]]}],\"surface\":[{\"type\":\"surface\",\"colorbar\":{\"outlinewidth\":0,\"ticks\":\"\"},\"colorscale\":[[0.0,\"#0d0887\"],[0.1111111111111111,\"#46039f\"],[0.2222222222222222,\"#7201a8\"],[0.3333333333333333,\"#9c179e\"],[0.4444444444444444,\"#bd3786\"],[0.5555555555555556,\"#d8576b\"],[0.6666666666666666,\"#ed7953\"],[0.7777777777777778,\"#fb9f3a\"],[0.8888888888888888,\"#fdca26\"],[1.0,\"#f0f921\"]]}],\"mesh3d\":[{\"type\":\"mesh3d\",\"colorbar\":{\"outlinewidth\":0,\"ticks\":\"\"}}],\"scatter\":[{\"marker\":{\"line\":{\"color\":\"#283442\"}},\"type\":\"scatter\"}],\"parcoords\":[{\"type\":\"parcoords\",\"line\":{\"colorbar\":{\"outlinewidth\":0,\"ticks\":\"\"}}}],\"scatterpolargl\":[{\"type\":\"scatterpolargl\",\"marker\":{\"colorbar\":{\"outlinewidth\":0,\"ticks\":\"\"}}}],\"bar\":[{\"error_x\":{\"color\":\"#f2f5fa\"},\"error_y\":{\"color\":\"#f2f5fa\"},\"marker\":{\"line\":{\"color\":\"rgb(17,17,17)\",\"width\":0.5},\"pattern\":{\"fillmode\":\"overlay\",\"size\":10,\"solidity\":0.2}},\"type\":\"bar\"}],\"scattergeo\":[{\"type\":\"scattergeo\",\"marker\":{\"colorbar\":{\"outlinewidth\":0,\"ticks\":\"\"}}}],\"scatterpolar\":[{\"type\":\"scatterpolar\",\"marker\":{\"colorbar\":{\"outlinewidth\":0,\"ticks\":\"\"}}}],\"histogram\":[{\"marker\":{\"pattern\":{\"fillmode\":\"overlay\",\"size\":10,\"solidity\":0.2}},\"type\":\"histogram\"}],\"scattergl\":[{\"marker\":{\"line\":{\"color\":\"#283442\"}},\"type\":\"scattergl\"}],\"scatter3d\":[{\"type\":\"scatter3d\",\"line\":{\"colorbar\":{\"outlinewidth\":0,\"ticks\":\"\"}},\"marker\":{\"colorbar\":{\"outlinewidth\":0,\"ticks\":\"\"}}}],\"scattermapbox\":[{\"type\":\"scattermapbox\",\"marker\":{\"colorbar\":{\"outlinewidth\":0,\"ticks\":\"\"}}}],\"scatterternary\":[{\"type\":\"scatterternary\",\"marker\":{\"colorbar\":{\"outlinewidth\":0,\"ticks\":\"\"}}}],\"scattercarpet\":[{\"type\":\"scattercarpet\",\"marker\":{\"colorbar\":{\"outlinewidth\":0,\"ticks\":\"\"}}}],\"carpet\":[{\"aaxis\":{\"endlinecolor\":\"#A2B1C6\",\"gridcolor\":\"#506784\",\"linecolor\":\"#506784\",\"minorgridcolor\":\"#506784\",\"startlinecolor\":\"#A2B1C6\"},\"baxis\":{\"endlinecolor\":\"#A2B1C6\",\"gridcolor\":\"#506784\",\"linecolor\":\"#506784\",\"minorgridcolor\":\"#506784\",\"startlinecolor\":\"#A2B1C6\"},\"type\":\"carpet\"}],\"table\":[{\"cells\":{\"fill\":{\"color\":\"#506784\"},\"line\":{\"color\":\"rgb(17,17,17)\"}},\"header\":{\"fill\":{\"color\":\"#2a3f5f\"},\"line\":{\"color\":\"rgb(17,17,17)\"}},\"type\":\"table\"}],\"barpolar\":[{\"marker\":{\"line\":{\"color\":\"rgb(17,17,17)\",\"width\":0.5},\"pattern\":{\"fillmode\":\"overlay\",\"size\":10,\"solidity\":0.2}},\"type\":\"barpolar\"}],\"pie\":[{\"automargin\":true,\"type\":\"pie\"}]},\"layout\":{\"autotypenumbers\":\"strict\",\"colorway\":[\"#636efa\",\"#EF553B\",\"#00cc96\",\"#ab63fa\",\"#FFA15A\",\"#19d3f3\",\"#FF6692\",\"#B6E880\",\"#FF97FF\",\"#FECB52\"],\"font\":{\"color\":\"#f2f5fa\"},\"hovermode\":\"closest\",\"hoverlabel\":{\"align\":\"left\"},\"paper_bgcolor\":\"rgb(17,17,17)\",\"plot_bgcolor\":\"rgb(17,17,17)\",\"polar\":{\"bgcolor\":\"rgb(17,17,17)\",\"angularaxis\":{\"gridcolor\":\"#506784\",\"linecolor\":\"#506784\",\"ticks\":\"\"},\"radialaxis\":{\"gridcolor\":\"#506784\",\"linecolor\":\"#506784\",\"ticks\":\"\"}},\"ternary\":{\"bgcolor\":\"rgb(17,17,17)\",\"aaxis\":{\"gridcolor\":\"#506784\",\"linecolor\":\"#506784\",\"ticks\":\"\"},\"baxis\":{\"gridcolor\":\"#506784\",\"linecolor\":\"#506784\",\"ticks\":\"\"},\"caxis\":{\"gridcolor\":\"#506784\",\"linecolor\":\"#506784\",\"ticks\":\"\"}},\"coloraxis\":{\"colorbar\":{\"outlinewidth\":0,\"ticks\":\"\"}},\"colorscale\":{\"sequential\":[[0.0,\"#0d0887\"],[0.1111111111111111,\"#46039f\"],[0.2222222222222222,\"#7201a8\"],[0.3333333333333333,\"#9c179e\"],[0.4444444444444444,\"#bd3786\"],[0.5555555555555556,\"#d8576b\"],[0.6666666666666666,\"#ed7953\"],[0.7777777777777778,\"#fb9f3a\"],[0.8888888888888888,\"#fdca26\"],[1.0,\"#f0f921\"]],\"sequentialminus\":[[0.0,\"#0d0887\"],[0.1111111111111111,\"#46039f\"],[0.2222222222222222,\"#7201a8\"],[0.3333333333333333,\"#9c179e\"],[0.4444444444444444,\"#bd3786\"],[0.5555555555555556,\"#d8576b\"],[0.6666666666666666,\"#ed7953\"],[0.7777777777777778,\"#fb9f3a\"],[0.8888888888888888,\"#fdca26\"],[1.0,\"#f0f921\"]],\"diverging\":[[0,\"#8e0152\"],[0.1,\"#c51b7d\"],[0.2,\"#de77ae\"],[0.3,\"#f1b6da\"],[0.4,\"#fde0ef\"],[0.5,\"#f7f7f7\"],[0.6,\"#e6f5d0\"],[0.7,\"#b8e186\"],[0.8,\"#7fbc41\"],[0.9,\"#4d9221\"],[1,\"#276419\"]]},\"xaxis\":{\"gridcolor\":\"#283442\",\"linecolor\":\"#506784\",\"ticks\":\"\",\"title\":{\"standoff\":15},\"zerolinecolor\":\"#283442\",\"automargin\":true,\"zerolinewidth\":2},\"yaxis\":{\"gridcolor\":\"#283442\",\"linecolor\":\"#506784\",\"ticks\":\"\",\"title\":{\"standoff\":15},\"zerolinecolor\":\"#283442\",\"automargin\":true,\"zerolinewidth\":2},\"scene\":{\"xaxis\":{\"backgroundcolor\":\"rgb(17,17,17)\",\"gridcolor\":\"#506784\",\"linecolor\":\"#506784\",\"showbackground\":true,\"ticks\":\"\",\"zerolinecolor\":\"#C8D4E3\",\"gridwidth\":2},\"yaxis\":{\"backgroundcolor\":\"rgb(17,17,17)\",\"gridcolor\":\"#506784\",\"linecolor\":\"#506784\",\"showbackground\":true,\"ticks\":\"\",\"zerolinecolor\":\"#C8D4E3\",\"gridwidth\":2},\"zaxis\":{\"backgroundcolor\":\"rgb(17,17,17)\",\"gridcolor\":\"#506784\",\"linecolor\":\"#506784\",\"showbackground\":true,\"ticks\":\"\",\"zerolinecolor\":\"#C8D4E3\",\"gridwidth\":2}},\"shapedefaults\":{\"line\":{\"color\":\"#f2f5fa\"}},\"annotationdefaults\":{\"arrowcolor\":\"#f2f5fa\",\"arrowhead\":0,\"arrowwidth\":1},\"geo\":{\"bgcolor\":\"rgb(17,17,17)\",\"landcolor\":\"rgb(17,17,17)\",\"subunitcolor\":\"#506784\",\"showland\":true,\"showlakes\":true,\"lakecolor\":\"rgb(17,17,17)\"},\"title\":{\"x\":0.05},\"updatemenudefaults\":{\"bgcolor\":\"#506784\",\"borderwidth\":0},\"sliderdefaults\":{\"bgcolor\":\"#C8D4E3\",\"borderwidth\":1,\"bordercolor\":\"rgb(17,17,17)\",\"tickwidth\":0},\"mapbox\":{\"style\":\"dark\"}}},\"legend\":{\"x\":0.1,\"y\":0.9},\"title\":{\"text\":\"Average Annual Salary by Education Level\"},\"xaxis\":{\"title\":{\"text\":\"Education Level\"}},\"yaxis\":{\"title\":{\"text\":\"Average Annual Salary\"}},\"width\":800,\"height\":500},                        {\"responsive\": true}                    ).then(function(){\n                            \nvar gd = document.getElementById('475e398f-c7a1-4478-a045-4b0ba5439e89');\nvar x = new MutationObserver(function (mutations, observer) {{\n        var display = window.getComputedStyle(gd).display;\n        if (!display || display === 'none') {{\n            console.log([gd, 'removed!']);\n            Plotly.purge(gd);\n            observer.disconnect();\n        }}\n}});\n\n// Listen for the removal of the full notebook cells\nvar notebookContainer = gd.closest('#notebook-container');\nif (notebookContainer) {{\n    x.observe(notebookContainer, {childList: true});\n}}\n\n// Listen for the clearing of the current output cell\nvar outputEl = gd.closest('.output');\nif (outputEl) {{\n    x.observe(outputEl, {childList: true});\n}}\n\n                        })                };                });            </script>        </div>"
     },
     "metadata": {},
     "output_type": "display_data"
    }
   ],
   "source": [
    "# Calculate the average 'Annual_Salary' for each 'Education_Level' category\n",
    "average_salary_by_education = df.groupby('Education_Level')['salary'].mean().round(2)\n",
    "\n",
    "# Calculate the average 'Annual_Salary' for each combination of 'Gender' and 'Education_Level'\n",
    "average_salary_by_gender_education = df.groupby(['gender', 'Education_Level'])['salary'].mean().round(2)\n",
    "\n",
    "# Separate the data for Male and Female\n",
    "male_data_df = df[df['gender'] == 'Male']\n",
    "female_data_df = df[df['gender'] == 'Female']\n",
    "\n",
    "# Create dynamic line graphs using plotly\n",
    "fig = go.Figure()\n",
    "\n",
    "# Plot the average salary by education level for Male employees\n",
    "male_average_salary_by_education = male_data_df.groupby('Education_Level')['salary'].mean().round(2)\n",
    "fig.add_trace(go.Scatter(x=male_average_salary_by_education.index,\n",
    "                         y=male_average_salary_by_education.values,\n",
    "                         mode='lines+markers',\n",
    "                         name='Male',\n",
    "                         line=dict(color='blue')))\n",
    "\n",
    "# Plot the average salary by education level for Female employees\n",
    "female_average_salary_by_education = female_data_df.groupby('Education_Level')['salary'].mean().round(2)\n",
    "fig.add_trace(go.Scatter(x=female_average_salary_by_education.index,\n",
    "                         y=female_average_salary_by_education.values,\n",
    "                         mode='lines+markers',\n",
    "                         name='Female',\n",
    "                         line=dict(color='red')))\n",
    "\n",
    "# Concatenate the data for 'Overall' (all genders) and plot\n",
    "overall_average_salary_by_education = pd.concat([male_average_salary_by_education, female_average_salary_by_education])\n",
    "overall_average_salary_by_education = overall_average_salary_by_education.groupby(level=0).mean().round(2)\n",
    "\n",
    "fig.add_trace(go.Scatter(x=overall_average_salary_by_education.index,\n",
    "                         y=overall_average_salary_by_education.values,\n",
    "                         mode='lines+markers',\n",
    "                         name='Overall (All Genders)',\n",
    "                         line=dict(color='green', dash='dash')))  # Using 'dash' parameter to make it a dashed line\n",
    "\n",
    "# Set the chart title and labels\n",
    "fig.update_layout(title=\"Average Annual Salary by Education Level\",\n",
    "                  xaxis_title=\"Education Level\",\n",
    "                  yaxis_title=\"Average Annual Salary\",\n",
    "                  legend=dict(x=0.1, y=0.9),\n",
    "                  width=800, height=500)\n",
    "\n",
    "# Show the chart\n",
    "fig.show()\n"
   ]
  },
  {
   "cell_type": "code",
   "execution_count": 83,
   "id": "9ebfeabe",
   "metadata": {
    "ExecuteTime": {
     "end_time": "2023-08-08T13:37:40.907848Z",
     "start_time": "2023-08-08T13:37:40.819054Z"
    }
   },
   "outputs": [
    {
     "data": {
      "application/vnd.plotly.v1+json": {
       "data": [
        {
         "line": {
          "color": "red"
         },
         "mode": "lines+markers",
         "name": "Female",
         "x": [
          0.0,
          0.5,
          1.0,
          1.5,
          2.0,
          3.0,
          4.0,
          5.0,
          6.0,
          7.0,
          8.0,
          9.0,
          10.0,
          11.0,
          12.0,
          13.0,
          14.0,
          15.0,
          16.0,
          17.0,
          18.0,
          19.0,
          20.0,
          21.0,
          22.0,
          23.0,
          25.0
         ],
         "y": [
          35000.0,
          35000.0,
          40000.0,
          41428.57142857143,
          41923.07692307692,
          48750.0,
          53333.333333333336,
          62272.72727272727,
          83333.33333333333,
          70000.0,
          84166.66666666667,
          100000.0,
          95769.23076923077,
          94166.66666666667,
          99090.90909090909,
          112857.14285714286,
          120000.0,
          134285.7142857143,
          158888.88888888888,
          130000.0,
          146000.0,
          150000.0,
          180000.0,
          178333.33333333334,
          160000.0,
          177500.0,
          170000.0
         ],
         "type": "scatter"
        },
        {
         "line": {
          "color": "blue"
         },
         "mode": "lines+markers",
         "name": "Male",
         "x": [
          0.0,
          1.0,
          1.5,
          2.0,
          3.0,
          4.0,
          5.0,
          6.0,
          7.0,
          8.0,
          9.0,
          10.0,
          11.0,
          12.0,
          13.0,
          14.0,
          15.0,
          16.0,
          17.0,
          18.0,
          19.0,
          20.0,
          21.0,
          22.0,
          24.0,
          25.0
         ],
         "y": [
          32500.0,
          36250.0,
          29070.0,
          41666.666666666664,
          53928.57142857143,
          60714.28571428572,
          67500.0,
          84166.66666666667,
          87333.33333333333,
          93076.92307692308,
          102666.66666666667,
          113000.0,
          110000.0,
          121250.0,
          132500.0,
          130714.28571428571,
          135000.0,
          156111.11111111112,
          151666.66666666666,
          151875.0,
          167500.0,
          163888.88888888888,
          170000.0,
          166666.66666666666,
          250000.0,
          215000.0
         ],
         "type": "scatter"
        },
        {
         "line": {
          "color": "green"
         },
         "mode": "lines+markers",
         "name": "All",
         "x": [
          0.0,
          0.5,
          1.0,
          1.5,
          2.0,
          3.0,
          4.0,
          5.0,
          6.0,
          7.0,
          8.0,
          9.0,
          10.0,
          11.0,
          12.0,
          13.0,
          14.0,
          15.0,
          16.0,
          17.0,
          18.0,
          19.0,
          20.0,
          21.0,
          22.0,
          23.0,
          24.0,
          25.0
         ],
         "y": [
          33333.333333333336,
          35000.0,
          37857.142857142855,
          36279.166666666664,
          41774.1935483871,
          51166.666666666664,
          58500.0,
          64117.64705882353,
          83750.0,
          84444.44444444444,
          88800.0,
          101818.18181818182,
          100555.55555555556,
          100500.0,
          105000.0,
          120000.0,
          125769.23076923077,
          134375.0,
          157500.0,
          143000.0,
          149615.38461538462,
          166333.33333333334,
          168846.15384615384,
          173846.15384615384,
          162222.22222222222,
          177500.0,
          250000.0,
          200000.0
         ],
         "type": "scatter"
        }
       ],
       "layout": {
        "template": {
         "data": {
          "histogram2dcontour": [
           {
            "type": "histogram2dcontour",
            "colorbar": {
             "outlinewidth": 0,
             "ticks": ""
            },
            "colorscale": [
             [
              0.0,
              "#0d0887"
             ],
             [
              0.1111111111111111,
              "#46039f"
             ],
             [
              0.2222222222222222,
              "#7201a8"
             ],
             [
              0.3333333333333333,
              "#9c179e"
             ],
             [
              0.4444444444444444,
              "#bd3786"
             ],
             [
              0.5555555555555556,
              "#d8576b"
             ],
             [
              0.6666666666666666,
              "#ed7953"
             ],
             [
              0.7777777777777778,
              "#fb9f3a"
             ],
             [
              0.8888888888888888,
              "#fdca26"
             ],
             [
              1.0,
              "#f0f921"
             ]
            ]
           }
          ],
          "choropleth": [
           {
            "type": "choropleth",
            "colorbar": {
             "outlinewidth": 0,
             "ticks": ""
            }
           }
          ],
          "histogram2d": [
           {
            "type": "histogram2d",
            "colorbar": {
             "outlinewidth": 0,
             "ticks": ""
            },
            "colorscale": [
             [
              0.0,
              "#0d0887"
             ],
             [
              0.1111111111111111,
              "#46039f"
             ],
             [
              0.2222222222222222,
              "#7201a8"
             ],
             [
              0.3333333333333333,
              "#9c179e"
             ],
             [
              0.4444444444444444,
              "#bd3786"
             ],
             [
              0.5555555555555556,
              "#d8576b"
             ],
             [
              0.6666666666666666,
              "#ed7953"
             ],
             [
              0.7777777777777778,
              "#fb9f3a"
             ],
             [
              0.8888888888888888,
              "#fdca26"
             ],
             [
              1.0,
              "#f0f921"
             ]
            ]
           }
          ],
          "heatmap": [
           {
            "type": "heatmap",
            "colorbar": {
             "outlinewidth": 0,
             "ticks": ""
            },
            "colorscale": [
             [
              0.0,
              "#0d0887"
             ],
             [
              0.1111111111111111,
              "#46039f"
             ],
             [
              0.2222222222222222,
              "#7201a8"
             ],
             [
              0.3333333333333333,
              "#9c179e"
             ],
             [
              0.4444444444444444,
              "#bd3786"
             ],
             [
              0.5555555555555556,
              "#d8576b"
             ],
             [
              0.6666666666666666,
              "#ed7953"
             ],
             [
              0.7777777777777778,
              "#fb9f3a"
             ],
             [
              0.8888888888888888,
              "#fdca26"
             ],
             [
              1.0,
              "#f0f921"
             ]
            ]
           }
          ],
          "heatmapgl": [
           {
            "type": "heatmapgl",
            "colorbar": {
             "outlinewidth": 0,
             "ticks": ""
            },
            "colorscale": [
             [
              0.0,
              "#0d0887"
             ],
             [
              0.1111111111111111,
              "#46039f"
             ],
             [
              0.2222222222222222,
              "#7201a8"
             ],
             [
              0.3333333333333333,
              "#9c179e"
             ],
             [
              0.4444444444444444,
              "#bd3786"
             ],
             [
              0.5555555555555556,
              "#d8576b"
             ],
             [
              0.6666666666666666,
              "#ed7953"
             ],
             [
              0.7777777777777778,
              "#fb9f3a"
             ],
             [
              0.8888888888888888,
              "#fdca26"
             ],
             [
              1.0,
              "#f0f921"
             ]
            ]
           }
          ],
          "contourcarpet": [
           {
            "type": "contourcarpet",
            "colorbar": {
             "outlinewidth": 0,
             "ticks": ""
            }
           }
          ],
          "contour": [
           {
            "type": "contour",
            "colorbar": {
             "outlinewidth": 0,
             "ticks": ""
            },
            "colorscale": [
             [
              0.0,
              "#0d0887"
             ],
             [
              0.1111111111111111,
              "#46039f"
             ],
             [
              0.2222222222222222,
              "#7201a8"
             ],
             [
              0.3333333333333333,
              "#9c179e"
             ],
             [
              0.4444444444444444,
              "#bd3786"
             ],
             [
              0.5555555555555556,
              "#d8576b"
             ],
             [
              0.6666666666666666,
              "#ed7953"
             ],
             [
              0.7777777777777778,
              "#fb9f3a"
             ],
             [
              0.8888888888888888,
              "#fdca26"
             ],
             [
              1.0,
              "#f0f921"
             ]
            ]
           }
          ],
          "surface": [
           {
            "type": "surface",
            "colorbar": {
             "outlinewidth": 0,
             "ticks": ""
            },
            "colorscale": [
             [
              0.0,
              "#0d0887"
             ],
             [
              0.1111111111111111,
              "#46039f"
             ],
             [
              0.2222222222222222,
              "#7201a8"
             ],
             [
              0.3333333333333333,
              "#9c179e"
             ],
             [
              0.4444444444444444,
              "#bd3786"
             ],
             [
              0.5555555555555556,
              "#d8576b"
             ],
             [
              0.6666666666666666,
              "#ed7953"
             ],
             [
              0.7777777777777778,
              "#fb9f3a"
             ],
             [
              0.8888888888888888,
              "#fdca26"
             ],
             [
              1.0,
              "#f0f921"
             ]
            ]
           }
          ],
          "mesh3d": [
           {
            "type": "mesh3d",
            "colorbar": {
             "outlinewidth": 0,
             "ticks": ""
            }
           }
          ],
          "scatter": [
           {
            "marker": {
             "line": {
              "color": "#283442"
             }
            },
            "type": "scatter"
           }
          ],
          "parcoords": [
           {
            "type": "parcoords",
            "line": {
             "colorbar": {
              "outlinewidth": 0,
              "ticks": ""
             }
            }
           }
          ],
          "scatterpolargl": [
           {
            "type": "scatterpolargl",
            "marker": {
             "colorbar": {
              "outlinewidth": 0,
              "ticks": ""
             }
            }
           }
          ],
          "bar": [
           {
            "error_x": {
             "color": "#f2f5fa"
            },
            "error_y": {
             "color": "#f2f5fa"
            },
            "marker": {
             "line": {
              "color": "rgb(17,17,17)",
              "width": 0.5
             },
             "pattern": {
              "fillmode": "overlay",
              "size": 10,
              "solidity": 0.2
             }
            },
            "type": "bar"
           }
          ],
          "scattergeo": [
           {
            "type": "scattergeo",
            "marker": {
             "colorbar": {
              "outlinewidth": 0,
              "ticks": ""
             }
            }
           }
          ],
          "scatterpolar": [
           {
            "type": "scatterpolar",
            "marker": {
             "colorbar": {
              "outlinewidth": 0,
              "ticks": ""
             }
            }
           }
          ],
          "histogram": [
           {
            "marker": {
             "pattern": {
              "fillmode": "overlay",
              "size": 10,
              "solidity": 0.2
             }
            },
            "type": "histogram"
           }
          ],
          "scattergl": [
           {
            "marker": {
             "line": {
              "color": "#283442"
             }
            },
            "type": "scattergl"
           }
          ],
          "scatter3d": [
           {
            "type": "scatter3d",
            "line": {
             "colorbar": {
              "outlinewidth": 0,
              "ticks": ""
             }
            },
            "marker": {
             "colorbar": {
              "outlinewidth": 0,
              "ticks": ""
             }
            }
           }
          ],
          "scattermapbox": [
           {
            "type": "scattermapbox",
            "marker": {
             "colorbar": {
              "outlinewidth": 0,
              "ticks": ""
             }
            }
           }
          ],
          "scatterternary": [
           {
            "type": "scatterternary",
            "marker": {
             "colorbar": {
              "outlinewidth": 0,
              "ticks": ""
             }
            }
           }
          ],
          "scattercarpet": [
           {
            "type": "scattercarpet",
            "marker": {
             "colorbar": {
              "outlinewidth": 0,
              "ticks": ""
             }
            }
           }
          ],
          "carpet": [
           {
            "aaxis": {
             "endlinecolor": "#A2B1C6",
             "gridcolor": "#506784",
             "linecolor": "#506784",
             "minorgridcolor": "#506784",
             "startlinecolor": "#A2B1C6"
            },
            "baxis": {
             "endlinecolor": "#A2B1C6",
             "gridcolor": "#506784",
             "linecolor": "#506784",
             "minorgridcolor": "#506784",
             "startlinecolor": "#A2B1C6"
            },
            "type": "carpet"
           }
          ],
          "table": [
           {
            "cells": {
             "fill": {
              "color": "#506784"
             },
             "line": {
              "color": "rgb(17,17,17)"
             }
            },
            "header": {
             "fill": {
              "color": "#2a3f5f"
             },
             "line": {
              "color": "rgb(17,17,17)"
             }
            },
            "type": "table"
           }
          ],
          "barpolar": [
           {
            "marker": {
             "line": {
              "color": "rgb(17,17,17)",
              "width": 0.5
             },
             "pattern": {
              "fillmode": "overlay",
              "size": 10,
              "solidity": 0.2
             }
            },
            "type": "barpolar"
           }
          ],
          "pie": [
           {
            "automargin": true,
            "type": "pie"
           }
          ]
         },
         "layout": {
          "autotypenumbers": "strict",
          "colorway": [
           "#636efa",
           "#EF553B",
           "#00cc96",
           "#ab63fa",
           "#FFA15A",
           "#19d3f3",
           "#FF6692",
           "#B6E880",
           "#FF97FF",
           "#FECB52"
          ],
          "font": {
           "color": "#f2f5fa"
          },
          "hovermode": "closest",
          "hoverlabel": {
           "align": "left"
          },
          "paper_bgcolor": "rgb(17,17,17)",
          "plot_bgcolor": "rgb(17,17,17)",
          "polar": {
           "bgcolor": "rgb(17,17,17)",
           "angularaxis": {
            "gridcolor": "#506784",
            "linecolor": "#506784",
            "ticks": ""
           },
           "radialaxis": {
            "gridcolor": "#506784",
            "linecolor": "#506784",
            "ticks": ""
           }
          },
          "ternary": {
           "bgcolor": "rgb(17,17,17)",
           "aaxis": {
            "gridcolor": "#506784",
            "linecolor": "#506784",
            "ticks": ""
           },
           "baxis": {
            "gridcolor": "#506784",
            "linecolor": "#506784",
            "ticks": ""
           },
           "caxis": {
            "gridcolor": "#506784",
            "linecolor": "#506784",
            "ticks": ""
           }
          },
          "coloraxis": {
           "colorbar": {
            "outlinewidth": 0,
            "ticks": ""
           }
          },
          "colorscale": {
           "sequential": [
            [
             0.0,
             "#0d0887"
            ],
            [
             0.1111111111111111,
             "#46039f"
            ],
            [
             0.2222222222222222,
             "#7201a8"
            ],
            [
             0.3333333333333333,
             "#9c179e"
            ],
            [
             0.4444444444444444,
             "#bd3786"
            ],
            [
             0.5555555555555556,
             "#d8576b"
            ],
            [
             0.6666666666666666,
             "#ed7953"
            ],
            [
             0.7777777777777778,
             "#fb9f3a"
            ],
            [
             0.8888888888888888,
             "#fdca26"
            ],
            [
             1.0,
             "#f0f921"
            ]
           ],
           "sequentialminus": [
            [
             0.0,
             "#0d0887"
            ],
            [
             0.1111111111111111,
             "#46039f"
            ],
            [
             0.2222222222222222,
             "#7201a8"
            ],
            [
             0.3333333333333333,
             "#9c179e"
            ],
            [
             0.4444444444444444,
             "#bd3786"
            ],
            [
             0.5555555555555556,
             "#d8576b"
            ],
            [
             0.6666666666666666,
             "#ed7953"
            ],
            [
             0.7777777777777778,
             "#fb9f3a"
            ],
            [
             0.8888888888888888,
             "#fdca26"
            ],
            [
             1.0,
             "#f0f921"
            ]
           ],
           "diverging": [
            [
             0,
             "#8e0152"
            ],
            [
             0.1,
             "#c51b7d"
            ],
            [
             0.2,
             "#de77ae"
            ],
            [
             0.3,
             "#f1b6da"
            ],
            [
             0.4,
             "#fde0ef"
            ],
            [
             0.5,
             "#f7f7f7"
            ],
            [
             0.6,
             "#e6f5d0"
            ],
            [
             0.7,
             "#b8e186"
            ],
            [
             0.8,
             "#7fbc41"
            ],
            [
             0.9,
             "#4d9221"
            ],
            [
             1,
             "#276419"
            ]
           ]
          },
          "xaxis": {
           "gridcolor": "#283442",
           "linecolor": "#506784",
           "ticks": "",
           "title": {
            "standoff": 15
           },
           "zerolinecolor": "#283442",
           "automargin": true,
           "zerolinewidth": 2
          },
          "yaxis": {
           "gridcolor": "#283442",
           "linecolor": "#506784",
           "ticks": "",
           "title": {
            "standoff": 15
           },
           "zerolinecolor": "#283442",
           "automargin": true,
           "zerolinewidth": 2
          },
          "scene": {
           "xaxis": {
            "backgroundcolor": "rgb(17,17,17)",
            "gridcolor": "#506784",
            "linecolor": "#506784",
            "showbackground": true,
            "ticks": "",
            "zerolinecolor": "#C8D4E3",
            "gridwidth": 2
           },
           "yaxis": {
            "backgroundcolor": "rgb(17,17,17)",
            "gridcolor": "#506784",
            "linecolor": "#506784",
            "showbackground": true,
            "ticks": "",
            "zerolinecolor": "#C8D4E3",
            "gridwidth": 2
           },
           "zaxis": {
            "backgroundcolor": "rgb(17,17,17)",
            "gridcolor": "#506784",
            "linecolor": "#506784",
            "showbackground": true,
            "ticks": "",
            "zerolinecolor": "#C8D4E3",
            "gridwidth": 2
           }
          },
          "shapedefaults": {
           "line": {
            "color": "#f2f5fa"
           }
          },
          "annotationdefaults": {
           "arrowcolor": "#f2f5fa",
           "arrowhead": 0,
           "arrowwidth": 1
          },
          "geo": {
           "bgcolor": "rgb(17,17,17)",
           "landcolor": "rgb(17,17,17)",
           "subunitcolor": "#506784",
           "showland": true,
           "showlakes": true,
           "lakecolor": "rgb(17,17,17)"
          },
          "title": {
           "x": 0.05
          },
          "updatemenudefaults": {
           "bgcolor": "#506784",
           "borderwidth": 0
          },
          "sliderdefaults": {
           "bgcolor": "#C8D4E3",
           "borderwidth": 1,
           "bordercolor": "rgb(17,17,17)",
           "tickwidth": 0
          },
          "mapbox": {
           "style": "dark"
          }
         }
        },
        "legend": {
         "x": 0.1,
         "y": 0.9
        },
        "title": {
         "text": "Average Annual Salary by Years of Experience"
        },
        "xaxis": {
         "title": {
          "text": "Years of Experience"
         }
        },
        "yaxis": {
         "title": {
          "text": "Average Annual Salary"
         }
        },
        "width": 800,
        "height": 500
       },
       "config": {
        "plotlyServerURL": "https://plot.ly"
       }
      },
      "text/html": "<div>                            <div id=\"4d74a888-314d-4d10-937a-37f03384944e\" class=\"plotly-graph-div\" style=\"height:500px; width:800px;\"></div>            <script type=\"text/javascript\">                require([\"plotly\"], function(Plotly) {                    window.PLOTLYENV=window.PLOTLYENV || {};                                    if (document.getElementById(\"4d74a888-314d-4d10-937a-37f03384944e\")) {                    Plotly.newPlot(                        \"4d74a888-314d-4d10-937a-37f03384944e\",                        [{\"line\":{\"color\":\"red\"},\"mode\":\"lines+markers\",\"name\":\"Female\",\"x\":[0.0,0.5,1.0,1.5,2.0,3.0,4.0,5.0,6.0,7.0,8.0,9.0,10.0,11.0,12.0,13.0,14.0,15.0,16.0,17.0,18.0,19.0,20.0,21.0,22.0,23.0,25.0],\"y\":[35000.0,35000.0,40000.0,41428.57142857143,41923.07692307692,48750.0,53333.333333333336,62272.72727272727,83333.33333333333,70000.0,84166.66666666667,100000.0,95769.23076923077,94166.66666666667,99090.90909090909,112857.14285714286,120000.0,134285.7142857143,158888.88888888888,130000.0,146000.0,150000.0,180000.0,178333.33333333334,160000.0,177500.0,170000.0],\"type\":\"scatter\"},{\"line\":{\"color\":\"blue\"},\"mode\":\"lines+markers\",\"name\":\"Male\",\"x\":[0.0,1.0,1.5,2.0,3.0,4.0,5.0,6.0,7.0,8.0,9.0,10.0,11.0,12.0,13.0,14.0,15.0,16.0,17.0,18.0,19.0,20.0,21.0,22.0,24.0,25.0],\"y\":[32500.0,36250.0,29070.0,41666.666666666664,53928.57142857143,60714.28571428572,67500.0,84166.66666666667,87333.33333333333,93076.92307692308,102666.66666666667,113000.0,110000.0,121250.0,132500.0,130714.28571428571,135000.0,156111.11111111112,151666.66666666666,151875.0,167500.0,163888.88888888888,170000.0,166666.66666666666,250000.0,215000.0],\"type\":\"scatter\"},{\"line\":{\"color\":\"green\"},\"mode\":\"lines+markers\",\"name\":\"All\",\"x\":[0.0,0.5,1.0,1.5,2.0,3.0,4.0,5.0,6.0,7.0,8.0,9.0,10.0,11.0,12.0,13.0,14.0,15.0,16.0,17.0,18.0,19.0,20.0,21.0,22.0,23.0,24.0,25.0],\"y\":[33333.333333333336,35000.0,37857.142857142855,36279.166666666664,41774.1935483871,51166.666666666664,58500.0,64117.64705882353,83750.0,84444.44444444444,88800.0,101818.18181818182,100555.55555555556,100500.0,105000.0,120000.0,125769.23076923077,134375.0,157500.0,143000.0,149615.38461538462,166333.33333333334,168846.15384615384,173846.15384615384,162222.22222222222,177500.0,250000.0,200000.0],\"type\":\"scatter\"}],                        {\"template\":{\"data\":{\"histogram2dcontour\":[{\"type\":\"histogram2dcontour\",\"colorbar\":{\"outlinewidth\":0,\"ticks\":\"\"},\"colorscale\":[[0.0,\"#0d0887\"],[0.1111111111111111,\"#46039f\"],[0.2222222222222222,\"#7201a8\"],[0.3333333333333333,\"#9c179e\"],[0.4444444444444444,\"#bd3786\"],[0.5555555555555556,\"#d8576b\"],[0.6666666666666666,\"#ed7953\"],[0.7777777777777778,\"#fb9f3a\"],[0.8888888888888888,\"#fdca26\"],[1.0,\"#f0f921\"]]}],\"choropleth\":[{\"type\":\"choropleth\",\"colorbar\":{\"outlinewidth\":0,\"ticks\":\"\"}}],\"histogram2d\":[{\"type\":\"histogram2d\",\"colorbar\":{\"outlinewidth\":0,\"ticks\":\"\"},\"colorscale\":[[0.0,\"#0d0887\"],[0.1111111111111111,\"#46039f\"],[0.2222222222222222,\"#7201a8\"],[0.3333333333333333,\"#9c179e\"],[0.4444444444444444,\"#bd3786\"],[0.5555555555555556,\"#d8576b\"],[0.6666666666666666,\"#ed7953\"],[0.7777777777777778,\"#fb9f3a\"],[0.8888888888888888,\"#fdca26\"],[1.0,\"#f0f921\"]]}],\"heatmap\":[{\"type\":\"heatmap\",\"colorbar\":{\"outlinewidth\":0,\"ticks\":\"\"},\"colorscale\":[[0.0,\"#0d0887\"],[0.1111111111111111,\"#46039f\"],[0.2222222222222222,\"#7201a8\"],[0.3333333333333333,\"#9c179e\"],[0.4444444444444444,\"#bd3786\"],[0.5555555555555556,\"#d8576b\"],[0.6666666666666666,\"#ed7953\"],[0.7777777777777778,\"#fb9f3a\"],[0.8888888888888888,\"#fdca26\"],[1.0,\"#f0f921\"]]}],\"heatmapgl\":[{\"type\":\"heatmapgl\",\"colorbar\":{\"outlinewidth\":0,\"ticks\":\"\"},\"colorscale\":[[0.0,\"#0d0887\"],[0.1111111111111111,\"#46039f\"],[0.2222222222222222,\"#7201a8\"],[0.3333333333333333,\"#9c179e\"],[0.4444444444444444,\"#bd3786\"],[0.5555555555555556,\"#d8576b\"],[0.6666666666666666,\"#ed7953\"],[0.7777777777777778,\"#fb9f3a\"],[0.8888888888888888,\"#fdca26\"],[1.0,\"#f0f921\"]]}],\"contourcarpet\":[{\"type\":\"contourcarpet\",\"colorbar\":{\"outlinewidth\":0,\"ticks\":\"\"}}],\"contour\":[{\"type\":\"contour\",\"colorbar\":{\"outlinewidth\":0,\"ticks\":\"\"},\"colorscale\":[[0.0,\"#0d0887\"],[0.1111111111111111,\"#46039f\"],[0.2222222222222222,\"#7201a8\"],[0.3333333333333333,\"#9c179e\"],[0.4444444444444444,\"#bd3786\"],[0.5555555555555556,\"#d8576b\"],[0.6666666666666666,\"#ed7953\"],[0.7777777777777778,\"#fb9f3a\"],[0.8888888888888888,\"#fdca26\"],[1.0,\"#f0f921\"]]}],\"surface\":[{\"type\":\"surface\",\"colorbar\":{\"outlinewidth\":0,\"ticks\":\"\"},\"colorscale\":[[0.0,\"#0d0887\"],[0.1111111111111111,\"#46039f\"],[0.2222222222222222,\"#7201a8\"],[0.3333333333333333,\"#9c179e\"],[0.4444444444444444,\"#bd3786\"],[0.5555555555555556,\"#d8576b\"],[0.6666666666666666,\"#ed7953\"],[0.7777777777777778,\"#fb9f3a\"],[0.8888888888888888,\"#fdca26\"],[1.0,\"#f0f921\"]]}],\"mesh3d\":[{\"type\":\"mesh3d\",\"colorbar\":{\"outlinewidth\":0,\"ticks\":\"\"}}],\"scatter\":[{\"marker\":{\"line\":{\"color\":\"#283442\"}},\"type\":\"scatter\"}],\"parcoords\":[{\"type\":\"parcoords\",\"line\":{\"colorbar\":{\"outlinewidth\":0,\"ticks\":\"\"}}}],\"scatterpolargl\":[{\"type\":\"scatterpolargl\",\"marker\":{\"colorbar\":{\"outlinewidth\":0,\"ticks\":\"\"}}}],\"bar\":[{\"error_x\":{\"color\":\"#f2f5fa\"},\"error_y\":{\"color\":\"#f2f5fa\"},\"marker\":{\"line\":{\"color\":\"rgb(17,17,17)\",\"width\":0.5},\"pattern\":{\"fillmode\":\"overlay\",\"size\":10,\"solidity\":0.2}},\"type\":\"bar\"}],\"scattergeo\":[{\"type\":\"scattergeo\",\"marker\":{\"colorbar\":{\"outlinewidth\":0,\"ticks\":\"\"}}}],\"scatterpolar\":[{\"type\":\"scatterpolar\",\"marker\":{\"colorbar\":{\"outlinewidth\":0,\"ticks\":\"\"}}}],\"histogram\":[{\"marker\":{\"pattern\":{\"fillmode\":\"overlay\",\"size\":10,\"solidity\":0.2}},\"type\":\"histogram\"}],\"scattergl\":[{\"marker\":{\"line\":{\"color\":\"#283442\"}},\"type\":\"scattergl\"}],\"scatter3d\":[{\"type\":\"scatter3d\",\"line\":{\"colorbar\":{\"outlinewidth\":0,\"ticks\":\"\"}},\"marker\":{\"colorbar\":{\"outlinewidth\":0,\"ticks\":\"\"}}}],\"scattermapbox\":[{\"type\":\"scattermapbox\",\"marker\":{\"colorbar\":{\"outlinewidth\":0,\"ticks\":\"\"}}}],\"scatterternary\":[{\"type\":\"scatterternary\",\"marker\":{\"colorbar\":{\"outlinewidth\":0,\"ticks\":\"\"}}}],\"scattercarpet\":[{\"type\":\"scattercarpet\",\"marker\":{\"colorbar\":{\"outlinewidth\":0,\"ticks\":\"\"}}}],\"carpet\":[{\"aaxis\":{\"endlinecolor\":\"#A2B1C6\",\"gridcolor\":\"#506784\",\"linecolor\":\"#506784\",\"minorgridcolor\":\"#506784\",\"startlinecolor\":\"#A2B1C6\"},\"baxis\":{\"endlinecolor\":\"#A2B1C6\",\"gridcolor\":\"#506784\",\"linecolor\":\"#506784\",\"minorgridcolor\":\"#506784\",\"startlinecolor\":\"#A2B1C6\"},\"type\":\"carpet\"}],\"table\":[{\"cells\":{\"fill\":{\"color\":\"#506784\"},\"line\":{\"color\":\"rgb(17,17,17)\"}},\"header\":{\"fill\":{\"color\":\"#2a3f5f\"},\"line\":{\"color\":\"rgb(17,17,17)\"}},\"type\":\"table\"}],\"barpolar\":[{\"marker\":{\"line\":{\"color\":\"rgb(17,17,17)\",\"width\":0.5},\"pattern\":{\"fillmode\":\"overlay\",\"size\":10,\"solidity\":0.2}},\"type\":\"barpolar\"}],\"pie\":[{\"automargin\":true,\"type\":\"pie\"}]},\"layout\":{\"autotypenumbers\":\"strict\",\"colorway\":[\"#636efa\",\"#EF553B\",\"#00cc96\",\"#ab63fa\",\"#FFA15A\",\"#19d3f3\",\"#FF6692\",\"#B6E880\",\"#FF97FF\",\"#FECB52\"],\"font\":{\"color\":\"#f2f5fa\"},\"hovermode\":\"closest\",\"hoverlabel\":{\"align\":\"left\"},\"paper_bgcolor\":\"rgb(17,17,17)\",\"plot_bgcolor\":\"rgb(17,17,17)\",\"polar\":{\"bgcolor\":\"rgb(17,17,17)\",\"angularaxis\":{\"gridcolor\":\"#506784\",\"linecolor\":\"#506784\",\"ticks\":\"\"},\"radialaxis\":{\"gridcolor\":\"#506784\",\"linecolor\":\"#506784\",\"ticks\":\"\"}},\"ternary\":{\"bgcolor\":\"rgb(17,17,17)\",\"aaxis\":{\"gridcolor\":\"#506784\",\"linecolor\":\"#506784\",\"ticks\":\"\"},\"baxis\":{\"gridcolor\":\"#506784\",\"linecolor\":\"#506784\",\"ticks\":\"\"},\"caxis\":{\"gridcolor\":\"#506784\",\"linecolor\":\"#506784\",\"ticks\":\"\"}},\"coloraxis\":{\"colorbar\":{\"outlinewidth\":0,\"ticks\":\"\"}},\"colorscale\":{\"sequential\":[[0.0,\"#0d0887\"],[0.1111111111111111,\"#46039f\"],[0.2222222222222222,\"#7201a8\"],[0.3333333333333333,\"#9c179e\"],[0.4444444444444444,\"#bd3786\"],[0.5555555555555556,\"#d8576b\"],[0.6666666666666666,\"#ed7953\"],[0.7777777777777778,\"#fb9f3a\"],[0.8888888888888888,\"#fdca26\"],[1.0,\"#f0f921\"]],\"sequentialminus\":[[0.0,\"#0d0887\"],[0.1111111111111111,\"#46039f\"],[0.2222222222222222,\"#7201a8\"],[0.3333333333333333,\"#9c179e\"],[0.4444444444444444,\"#bd3786\"],[0.5555555555555556,\"#d8576b\"],[0.6666666666666666,\"#ed7953\"],[0.7777777777777778,\"#fb9f3a\"],[0.8888888888888888,\"#fdca26\"],[1.0,\"#f0f921\"]],\"diverging\":[[0,\"#8e0152\"],[0.1,\"#c51b7d\"],[0.2,\"#de77ae\"],[0.3,\"#f1b6da\"],[0.4,\"#fde0ef\"],[0.5,\"#f7f7f7\"],[0.6,\"#e6f5d0\"],[0.7,\"#b8e186\"],[0.8,\"#7fbc41\"],[0.9,\"#4d9221\"],[1,\"#276419\"]]},\"xaxis\":{\"gridcolor\":\"#283442\",\"linecolor\":\"#506784\",\"ticks\":\"\",\"title\":{\"standoff\":15},\"zerolinecolor\":\"#283442\",\"automargin\":true,\"zerolinewidth\":2},\"yaxis\":{\"gridcolor\":\"#283442\",\"linecolor\":\"#506784\",\"ticks\":\"\",\"title\":{\"standoff\":15},\"zerolinecolor\":\"#283442\",\"automargin\":true,\"zerolinewidth\":2},\"scene\":{\"xaxis\":{\"backgroundcolor\":\"rgb(17,17,17)\",\"gridcolor\":\"#506784\",\"linecolor\":\"#506784\",\"showbackground\":true,\"ticks\":\"\",\"zerolinecolor\":\"#C8D4E3\",\"gridwidth\":2},\"yaxis\":{\"backgroundcolor\":\"rgb(17,17,17)\",\"gridcolor\":\"#506784\",\"linecolor\":\"#506784\",\"showbackground\":true,\"ticks\":\"\",\"zerolinecolor\":\"#C8D4E3\",\"gridwidth\":2},\"zaxis\":{\"backgroundcolor\":\"rgb(17,17,17)\",\"gridcolor\":\"#506784\",\"linecolor\":\"#506784\",\"showbackground\":true,\"ticks\":\"\",\"zerolinecolor\":\"#C8D4E3\",\"gridwidth\":2}},\"shapedefaults\":{\"line\":{\"color\":\"#f2f5fa\"}},\"annotationdefaults\":{\"arrowcolor\":\"#f2f5fa\",\"arrowhead\":0,\"arrowwidth\":1},\"geo\":{\"bgcolor\":\"rgb(17,17,17)\",\"landcolor\":\"rgb(17,17,17)\",\"subunitcolor\":\"#506784\",\"showland\":true,\"showlakes\":true,\"lakecolor\":\"rgb(17,17,17)\"},\"title\":{\"x\":0.05},\"updatemenudefaults\":{\"bgcolor\":\"#506784\",\"borderwidth\":0},\"sliderdefaults\":{\"bgcolor\":\"#C8D4E3\",\"borderwidth\":1,\"bordercolor\":\"rgb(17,17,17)\",\"tickwidth\":0},\"mapbox\":{\"style\":\"dark\"}}},\"legend\":{\"x\":0.1,\"y\":0.9},\"title\":{\"text\":\"Average Annual Salary by Years of Experience\"},\"xaxis\":{\"title\":{\"text\":\"Years of Experience\"}},\"yaxis\":{\"title\":{\"text\":\"Average Annual Salary\"}},\"width\":800,\"height\":500},                        {\"responsive\": true}                    ).then(function(){\n                            \nvar gd = document.getElementById('4d74a888-314d-4d10-937a-37f03384944e');\nvar x = new MutationObserver(function (mutations, observer) {{\n        var display = window.getComputedStyle(gd).display;\n        if (!display || display === 'none') {{\n            console.log([gd, 'removed!']);\n            Plotly.purge(gd);\n            observer.disconnect();\n        }}\n}});\n\n// Listen for the removal of the full notebook cells\nvar notebookContainer = gd.closest('#notebook-container');\nif (notebookContainer) {{\n    x.observe(notebookContainer, {childList: true});\n}}\n\n// Listen for the clearing of the current output cell\nvar outputEl = gd.closest('.output');\nif (outputEl) {{\n    x.observe(outputEl, {childList: true});\n}}\n\n                        })                };                });            </script>        </div>"
     },
     "metadata": {},
     "output_type": "display_data"
    }
   ],
   "source": [
    "# Calculate the average 'Annual_Salary' for each combination of 'Gender' and 'Years_Exp'\n",
    "average_salary_by_gender_experience = df.groupby(['gender', 'Years_Exp'])['salary'].mean()\n",
    "\n",
    "# Reset the index for plotting\n",
    "average_salary_by_gender_experience = average_salary_by_gender_experience.reset_index()\n",
    "\n",
    "# Round the average salary to two decimal places\n",
    "average_salary_by_gender_experience['annual_salary'] = average_salary_by_gender_experience['salary'].round(2)\n",
    "\n",
    "# Separate the data for Female and Male employees\n",
    "female_data_df = average_salary_by_gender_experience[average_salary_by_gender_experience['gender'] == 'Female']\n",
    "male_data_df = average_salary_by_gender_experience[average_salary_by_gender_experience['gender'] == 'Male']\n",
    "\n",
    "# Check if data is available for Female and Male employees\n",
    "if not female_data_df.empty:\n",
    "    fig = go.Figure()\n",
    "    fig.add_trace(go.Scatter(x=female_data_df['Years_Exp'], y=female_data_df['salary'],\n",
    "                             mode='lines+markers', name='Female', line=dict(color='red')))\n",
    "\n",
    "if not male_data_df.empty:\n",
    "    fig.add_trace(go.Scatter(x=male_data_df['Years_Exp'], y=male_data_df['salary'],\n",
    "                             mode='lines+markers', name='Male', line=dict(color='blue')))\n",
    "\n",
    "# Plot the average salary for all employees (both genders)\n",
    "average_salary_all_by_years_exp = df.groupby('Years_Exp')['salary'].mean().reset_index()\n",
    "fig.add_trace(go.Scatter(x=average_salary_all_by_years_exp['Years_Exp'],\n",
    "                         y=average_salary_all_by_years_exp['salary'],\n",
    "                         mode='lines+markers', name='All', line=dict(color='green')))\n",
    "\n",
    "# Set the chart title and labels\n",
    "fig.update_layout(title=\"Average Annual Salary by Years of Experience\",\n",
    "                  xaxis_title=\"Years of Experience\",\n",
    "                  yaxis_title=\"Average Annual Salary\",\n",
    "                  legend=dict(x=0.1, y=0.9),\n",
    "                  width=800, height=500)\n",
    "\n",
    "# Show the chart\n",
    "fig.show()"
   ]
  },
  {
   "cell_type": "code",
   "execution_count": 84,
   "id": "2aa6f4b6",
   "metadata": {
    "ExecuteTime": {
     "end_time": "2023-08-08T13:37:40.908119Z",
     "start_time": "2023-08-08T13:37:40.827299Z"
    }
   },
   "outputs": [
    {
     "name": "stdout",
     "output_type": "stream",
     "text": [
      "\n",
      "Average Salary by Department:\n",
      "Department\n",
      "Accounts and Finance          89625.00\n",
      "HR and Administration        112984.13\n",
      "IT and Technical services    104823.01\n",
      "Marketing and Creative        89090.91\n",
      "Sales                         89107.14\n",
      "Name: salary, dtype: float64\n"
     ]
    }
   ],
   "source": [
    "# Calculate the average 'Annual_Salary' for each 'Department' category\n",
    "average_salary_by_department = df.groupby('Department')['salary'].mean()\n",
    "# Round the average salary to two decimal places\n",
    "average_salary_by_department = average_salary_by_department.round(2)\n",
    "# Print the average salary for each education level category\n",
    "print(\"\\nAverage Salary by Department:\")\n",
    "print(average_salary_by_department)"
   ]
  },
  {
   "cell_type": "code",
   "execution_count": 85,
   "id": "ce737827",
   "metadata": {
    "ExecuteTime": {
     "end_time": "2023-08-08T13:37:41.030919Z",
     "start_time": "2023-08-08T13:37:40.837120Z"
    }
   },
   "outputs": [
    {
     "data": {
      "text/plain": "<Figure size 1200x600 with 1 Axes>",
      "image/png": "[encoded data removed]"
     },
     "metadata": {},
     "output_type": "display_data"
    }
   ],
   "source": [
    "# Sort the average_salary_by_department in descending order\n",
    "sorted_average_salary = average_salary_by_department.sort_values(ascending=False)\n",
    "\n",
    "# Create a bar chart for the top 10 job titles\n",
    "plt.figure(figsize=(12, 6))\n",
    "plt.bar(sorted_average_salary.index, sorted_average_salary.values)\n",
    "plt.xlabel('Department')\n",
    "plt.ylabel('Average Annual Salary')\n",
    "plt.title('Average Annual Salaries by Department')\n",
    "plt.xticks(rotation=45, ha='right')  # Rotate the x-axis labels for better visibility\n",
    "\n",
    "# Show the chart\n",
    "plt.tight_layout()\n",
    "plt.show()"
   ]
  },
  {
   "cell_type": "code",
   "execution_count": 86,
   "id": "6e7a09cc",
   "metadata": {
    "ExecuteTime": {
     "end_time": "2023-08-08T13:37:41.880514Z",
     "start_time": "2023-08-08T13:37:41.084217Z"
    }
   },
   "outputs": [
    {
     "name": "stderr",
     "output_type": "stream",
     "text": [
      "/var/folders/gz/yqwhjwdd6c75tl8kh7k5sr700000gn/T/ipykernel_33770/2913134591.py:2: UserWarning:\n",
      "\n",
      "FixedFormatter should only be used together with FixedLocator\n",
      "\n"
     ]
    },
    {
     "data": {
      "text/plain": "<Figure size 2940x700 with 6 Axes>",
      "image/png": "[encoded data removed]"
     },
     "metadata": {},
     "output_type": "display_data"
    }
   ],
   "source": [
    "pairplot= sns.pairplot(df,x_vars=['Age','gender', 'Education_Level','Years_Exp','Department','Seniority'],y_vars='salary',height=7,aspect=0.7)\n",
    "pairplot.axes[0, 4].set_xticklabels(pairplot.axes[0, 4].get_xticklabels(), rotation=90)\n",
    "plt.show()"
   ]
  },
  {
   "cell_type": "code",
   "execution_count": 87,
   "id": "aa4030c8",
   "metadata": {
    "ExecuteTime": {
     "end_time": "2023-08-08T13:37:41.886250Z",
     "start_time": "2023-08-08T13:37:41.884449Z"
    }
   },
   "outputs": [],
   "source": [
    "# One hot encoding for categorical variables that are nominal (Gender)\n",
    "df= pd.get_dummies(df, columns=['gender'], drop_first=True)\n",
    "\n",
    "# Label encoding for ordinal variables\n",
    "label_encoder = LabelEncoder()\n",
    "df['Education_Level'] = label_encoder.fit_transform(df['Education_Level'])\n",
    "df['Department'] = label_encoder.fit_transform(df['Department'])"
   ]
  },
  {
   "cell_type": "code",
   "execution_count": 88,
   "id": "771e3177",
   "metadata": {
    "ExecuteTime": {
     "end_time": "2023-08-08T13:37:41.896958Z",
     "start_time": "2023-08-08T13:37:41.894112Z"
    }
   },
   "outputs": [
    {
     "data": {
      "text/plain": "      Age  Education_Level                      Job_Title  Years_Exp  \\\n365  43.0                1          Director of Marketing       18.0   \n366  31.0                0       Junior Financial Analyst        3.0   \n367  41.0                0         Senior Product Manager       14.0   \n368  44.0                2           Senior Data Engineer       16.0   \n369  33.0                0        Junior Business Analyst        4.0   \n370  35.0                0       Senior Marketing Analyst        8.0   \n371  43.0                1         Director of Operations       19.0   \n372  29.0                0         Junior Project Manager        2.0   \n373  34.0                0  Senior Operations Coordinator        7.0   \n374  44.0                2        Senior Business Analyst       15.0   \n\n       salary  Department  Seniority  gender_Male  \n365  170000.0           3        0.0            1  \n366   50000.0           0        0.0            0  \n367  150000.0           1        0.0            1  \n368  160000.0           2        0.0            0  \n369   60000.0           2        0.0            1  \n370   85000.0           3        0.0            0  \n371  170000.0           1        0.0            1  \n372   40000.0           2        0.0            0  \n373   90000.0           1        0.0            1  \n374  150000.0           2        0.0            0  ",
      "text/html": "<div>\n<style scoped>\n    .dataframe tbody tr th:only-of-type {\n        vertical-align: middle;\n    }\n\n    .dataframe tbody tr th {\n        vertical-align: top;\n    }\n\n    .dataframe thead th {\n        text-align: right;\n    }\n</style>\n<table border=\"1\" class=\"dataframe\">\n  <thead>\n    <tr style=\"text-align: right;\">\n      <th></th>\n      <th>Age</th>\n      <th>Education_Level</th>\n      <th>Job_Title</th>\n      <th>Years_Exp</th>\n      <th>salary</th>\n      <th>Department</th>\n      <th>Seniority</th>\n      <th>gender_Male</th>\n    </tr>\n  </thead>\n  <tbody>\n    <tr>\n      <th>365</th>\n      <td>43.0</td>\n      <td>1</td>\n      <td>Director of Marketing</td>\n      <td>18.0</td>\n      <td>170000.0</td>\n      <td>3</td>\n      <td>0.0</td>\n      <td>1</td>\n    </tr>\n    <tr>\n      <th>366</th>\n      <td>31.0</td>\n      <td>0</td>\n      <td>Junior Financial Analyst</td>\n      <td>3.0</td>\n      <td>50000.0</td>\n      <td>0</td>\n      <td>0.0</td>\n      <td>0</td>\n    </tr>\n    <tr>\n      <th>367</th>\n      <td>41.0</td>\n      <td>0</td>\n      <td>Senior Product Manager</td>\n      <td>14.0</td>\n      <td>150000.0</td>\n      <td>1</td>\n      <td>0.0</td>\n      <td>1</td>\n    </tr>\n    <tr>\n      <th>368</th>\n      <td>44.0</td>\n      <td>2</td>\n      <td>Senior Data Engineer</td>\n      <td>16.0</td>\n      <td>160000.0</td>\n      <td>2</td>\n      <td>0.0</td>\n      <td>0</td>\n    </tr>\n    <tr>\n      <th>369</th>\n      <td>33.0</td>\n      <td>0</td>\n      <td>Junior Business Analyst</td>\n      <td>4.0</td>\n      <td>60000.0</td>\n      <td>2</td>\n      <td>0.0</td>\n      <td>1</td>\n    </tr>\n    <tr>\n      <th>370</th>\n      <td>35.0</td>\n      <td>0</td>\n      <td>Senior Marketing Analyst</td>\n      <td>8.0</td>\n      <td>85000.0</td>\n      <td>3</td>\n      <td>0.0</td>\n      <td>0</td>\n    </tr>\n    <tr>\n      <th>371</th>\n      <td>43.0</td>\n      <td>1</td>\n      <td>Director of Operations</td>\n      <td>19.0</td>\n      <td>170000.0</td>\n      <td>1</td>\n      <td>0.0</td>\n      <td>1</td>\n    </tr>\n    <tr>\n      <th>372</th>\n      <td>29.0</td>\n      <td>0</td>\n      <td>Junior Project Manager</td>\n      <td>2.0</td>\n      <td>40000.0</td>\n      <td>2</td>\n      <td>0.0</td>\n      <td>0</td>\n    </tr>\n    <tr>\n      <th>373</th>\n      <td>34.0</td>\n      <td>0</td>\n      <td>Senior Operations Coordinator</td>\n      <td>7.0</td>\n      <td>90000.0</td>\n      <td>1</td>\n      <td>0.0</td>\n      <td>1</td>\n    </tr>\n    <tr>\n      <th>374</th>\n      <td>44.0</td>\n      <td>2</td>\n      <td>Senior Business Analyst</td>\n      <td>15.0</td>\n      <td>150000.0</td>\n      <td>2</td>\n      <td>0.0</td>\n      <td>0</td>\n    </tr>\n  </tbody>\n</table>\n</div>"
     },
     "execution_count": 88,
     "metadata": {},
     "output_type": "execute_result"
    }
   ],
   "source": [
    "df.tail(10)"
   ]
  },
  {
   "cell_type": "code",
   "execution_count": 89,
   "id": "775f8fc8",
   "metadata": {
    "ExecuteTime": {
     "end_time": "2023-08-08T13:37:42.154601Z",
     "start_time": "2023-08-08T13:37:41.897093Z"
    }
   },
   "outputs": [
    {
     "data": {
      "text/plain": "<AxesSubplot:>"
     },
     "execution_count": 89,
     "metadata": {},
     "output_type": "execute_result"
    },
    {
     "data": {
      "text/plain": "<Figure size 640x480 with 2 Axes>",
      "image/png": "[encoded data removed]"
     },
     "metadata": {},
     "output_type": "display_data"
    }
   ],
   "source": [
    "sns.heatmap(df.corr(),annot=True)"
   ]
  },
  {
   "cell_type": "markdown",
   "id": "7d2ab98f",
   "metadata": {},
   "source": [
    "Machine Learning Model"
   ]
  },
  {
   "cell_type": "code",
   "execution_count": 90,
   "outputs": [
    {
     "name": "stdout",
     "output_type": "stream",
     "text": [
      "Accuracy: 1.0\n",
      "Classification Report:\n",
      "               precision    recall  f1-score   support\n",
      "\n",
      "           0       1.00      1.00      1.00        18\n",
      "           1       1.00      1.00      1.00        18\n",
      "           2       1.00      1.00      1.00        24\n",
      "           3       1.00      1.00      1.00        29\n",
      "           4       1.00      1.00      1.00        24\n",
      "\n",
      "    accuracy                           1.00       113\n",
      "   macro avg       1.00      1.00      1.00       113\n",
      "weighted avg       1.00      1.00      1.00       113\n"
     ]
    }
   ],
   "source": [
    "#Logistic Reg + Over sampling\n",
    "from sklearn.linear_model import LogisticRegression\n",
    "from sklearn.metrics import accuracy_score\n",
    "from imblearn.over_sampling import SMOTE\n",
    "\n",
    "# Separate the y variable, the labels\n",
    "\n",
    "\n",
    "y = df['Department']\n",
    "\n",
    "# Separate the X variable, the features\n",
    "X = df.drop(columns=['Age', 'Years_Exp','salary','Job_Title'])\n",
    "X = pd.get_dummies(X)\n",
    "\n",
    "\n",
    "# Perform oversampling\n",
    "smote = SMOTE(random_state=0,sampling_strategy='auto', k_neighbors=5)\n",
    "X_resampled, y_resampled = smote.fit_resample(X, y)\n",
    "\n",
    "\n",
    "# Split the data into a training and a test set\n",
    "X_train, X_test, y_train, y_test = train_test_split(X_resampled, y_resampled, test_size=0.2, random_state=0)\n",
    "\n",
    "# Instantiate the logistic regression model\n",
    "model = LogisticRegression(solver='lbfgs', max_iter=1000)\n",
    "\n",
    "# Train the model\n",
    "model.fit(X_train, y_train)\n",
    "\n",
    "# Predict the labels of the test set\n",
    "y_pred = model.predict(X_test)\n",
    "\n",
    "# Print the accuracy\n",
    "print(\"Accuracy:\", accuracy_score(y_test, y_pred))\n",
    "\n",
    "# Print the classification report\n",
    "print(\"Classification Report:\\n\", classification_report(y_test, y_pred))"
   ],
   "metadata": {
    "collapsed": false,
    "ExecuteTime": {
     "end_time": "2023-08-08T13:37:42.403782Z",
     "start_time": "2023-08-08T13:37:42.142540Z"
    }
   },
   "id": "d34dcb5512399179"
  },
  {
   "cell_type": "code",
   "execution_count": 91,
   "id": "1adb152d",
   "metadata": {
    "ExecuteTime": {
     "end_time": "2023-08-08T13:37:42.404048Z",
     "start_time": "2023-08-08T13:37:42.177640Z"
    }
   },
   "outputs": [],
   "source": [
    "    # Prepare the Data\n",
    "\n",
    "# Splitting the dataset into features and outcome variable (Salary)\n",
    "x = df.drop(columns=['Age', 'gender_Male','salary','Job_Title'])\n",
    "y = df['salary']\n",
    "\n",
    "#x = df[['Age','Years_Exp','Seniority','Gender_Male','Department_HR and Administration','Department_IT and Technical services',\\\n",
    "#'Department_Marketing and Creative','Department_Sales','education_level_encoded']].values\n",
    "\n",
    "# Split the data into 80% training and 20% testing\n",
    "x_train, x_test, y_train, y_test = train_test_split(x, y, test_size=0.2, random_state=42)"
   ]
  },
  {
   "cell_type": "code",
   "execution_count": 92,
   "id": "7b4b7855",
   "metadata": {
    "ExecuteTime": {
     "end_time": "2023-08-08T13:37:42.404204Z",
     "start_time": "2023-08-08T13:37:42.189600Z"
    }
   },
   "outputs": [
    {
     "name": "stdout",
     "output_type": "stream",
     "text": [
      "The R2 score for the Multi Linear Regression model is 0.9027\n",
      "Mean Squared Error: 233355401.45166144\n"
     ]
    }
   ],
   "source": [
    "## Training the multiple linear regression on the training set\n",
    "regressor_MultiLinear = LinearRegression()\n",
    "regressor_MultiLinear.fit(x_train,y_train)\n",
    "\n",
    "## Predicting test results\n",
    "y_pred_linear = regressor_MultiLinear.predict(x_test)\n",
    "\n",
    "# Accuracy\n",
    "\n",
    "# Calculating r2 score\n",
    "r2_MultiLinear = r2_score(y_test,y_pred_linear)\n",
    "print(f\"The R2 score for the Multi Linear Regression model is {r2_MultiLinear:.4f}\")\n",
    "\n",
    "# Calculate the Mean Squared Error (MSE)\n",
    "mse_multilinear = mean_squared_error(y_test, y_pred_linear)\n",
    "print(\"Mean Squared Error:\", mse_multilinear)"
   ]
  },
  {
   "cell_type": "code",
   "execution_count": 93,
   "id": "c8dbeb52",
   "metadata": {
    "ExecuteTime": {
     "end_time": "2023-08-08T13:37:42.404311Z",
     "start_time": "2023-08-08T13:37:42.192311Z"
    }
   },
   "outputs": [
    {
     "name": "stdout",
     "output_type": "stream",
     "text": [
      "     Education_Level  Years_Exp  Department  Seniority\n",
      "329                1       21.0           3        0.0\n",
      "33                 0       10.0           3        0.0\n",
      "15                 0       16.0           1        0.0\n",
      "316                1        6.0           0        0.0\n",
      "57                 2       17.0           2        0.0\n",
      "..               ...        ...         ...        ...\n",
      "94                 0        7.0           2        0.0\n",
      "196                0       11.0           3        0.0\n",
      "313                0        4.0           2        0.0\n",
      "294                1       14.0           1        0.0\n",
      "349                0        8.0           3        0.0\n",
      "\n",
      "[75 rows x 4 columns]\n"
     ]
    }
   ],
   "source": [
    "print (x_test)"
   ]
  },
  {
   "cell_type": "code",
   "execution_count": 94,
   "id": "31272b42",
   "metadata": {
    "ExecuteTime": {
     "end_time": "2023-08-08T13:37:42.405044Z",
     "start_time": "2023-08-08T13:37:42.200949Z"
    }
   },
   "outputs": [
    {
     "name": "stdout",
     "output_type": "stream",
     "text": [
      "The R2 score for the Random Forest Regressor model is 0.8463\n",
      "Mean Squared Error: 368558692.25374043\n"
     ]
    }
   ],
   "source": [
    "# Create a Random Forest Regressor instance\n",
    "rf_regressor = RandomForestRegressor(random_state=42)\n",
    "y_train = y_train.ravel()\n",
    "\n",
    "# Fit the regressor on the training data\n",
    "rf_regressor.fit(x_train, y_train)\n",
    "\n",
    "# Make predictions on the test data\n",
    "y_pred_randf = rf_regressor.predict(x_test)\n",
    "\n",
    "# Calculating r2 score\n",
    "r2_randf = r2_score(y_test,y_pred_randf)\n",
    "print(f\"The R2 score for the Random Forest Regressor model is {r2_randf:.4f}\")\n",
    "\n",
    "# Calculate the Mean Squared Error (MSE)\n",
    "mse_randf = mean_squared_error(y_test, y_pred_randf)\n",
    "print(\"Mean Squared Error:\", mse_randf)"
   ]
  },
  {
   "cell_type": "markdown",
   "id": "60577d82",
   "metadata": {},
   "source": [
    "Visualize Predictions"
   ]
  },
  {
   "cell_type": "code",
   "execution_count": 95,
   "id": "7d874ae6",
   "metadata": {
    "ExecuteTime": {
     "end_time": "2023-08-08T13:37:42.462579Z",
     "start_time": "2023-08-08T13:37:42.304965Z"
    }
   },
   "outputs": [
    {
     "data": {
      "text/plain": "<Figure size 1000x600 with 1 Axes>",
      "image/png": "[encoded data removed]"
     },
     "metadata": {},
     "output_type": "display_data"
    }
   ],
   "source": [
    "# Visualize Predictions for Muliple Linear Regression Model\n",
    "plt.figure(figsize=(10, 6))\n",
    "\n",
    "# Scatter plot for predicted salaries (orange color)\n",
    "plt.scatter(y_test, y_pred_linear, color='orange', label='Predicted Salaries - Muliple Linear Regression Model')\n",
    "\n",
    "# Scatter plot for actual salaries (ble color)\n",
    "plt.scatter(y_test, y_test, color='blue', label='Actual Salaries')\n",
    "\n",
    "plt.xlabel('Salaries')\n",
    "plt.ylabel('Predicted/Predicted Salaries')\n",
    "plt.title('Actual vs. Predicted Salaries')\n",
    "plt.legend()\n",
    "plt.show()"
   ]
  },
  {
   "cell_type": "code",
   "execution_count": 96,
   "id": "5b58b1b9",
   "metadata": {
    "ExecuteTime": {
     "end_time": "2023-08-08T13:37:42.587056Z",
     "start_time": "2023-08-08T13:37:42.454868Z"
    }
   },
   "outputs": [
    {
     "data": {
      "text/plain": "<Figure size 1000x600 with 1 Axes>",
      "image/png": "[encoded data removed]"
     },
     "metadata": {},
     "output_type": "display_data"
    }
   ],
   "source": [
    "# Visualize Predictions for Muliple Linear Regression Model\n",
    "plt.figure(figsize=(10, 6))\n",
    "\n",
    "# Scatter plot for predicted salaries (red color)\n",
    "plt.scatter(y_test, y_pred_randf, color='red', label='Predicted Salaries - Random Forest Model')\n",
    "\n",
    "# Scatter plot for actual salaries (ble color)\n",
    "plt.scatter(y_test, y_test, color='blue', label='Actual Salaries')\n",
    "\n",
    "plt.xlabel('Salaries')\n",
    "plt.ylabel('Predicted/Predicted Salaries')\n",
    "plt.title('Actual vs. Predicted Salaries')\n",
    "plt.legend()\n",
    "plt.show()"
   ]
  },
  {
   "cell_type": "markdown",
   "id": "3fd7d993",
   "metadata": {},
   "source": [
    "Feature importance"
   ]
  },
  {
   "cell_type": "code",
   "execution_count": 97,
   "id": "fe784542",
   "metadata": {
    "ExecuteTime": {
     "end_time": "2023-08-08T13:37:42.706019Z",
     "start_time": "2023-08-08T13:37:42.593971Z"
    }
   },
   "outputs": [
    {
     "data": {
      "text/plain": "<Figure size 1000x600 with 1 Axes>",
      "image/png": "[encoded data removed]"
     },
     "metadata": {},
     "output_type": "display_data"
    }
   ],
   "source": [
    "# Analyze Feature Importances for Mulitple Linear Regression Model\n",
    "feature_importances = abs(regressor_MultiLinear.coef_)\n",
    "feature_names = x.columns\n",
    "plt.figure(figsize=(10, 6))\n",
    "sns.barplot(x=feature_importances, y=feature_names)\n",
    "plt.xlabel('Feature Importances')\n",
    "plt.ylabel('Features')\n",
    "plt.title('Feature Importances in Predicting Salaries')\n",
    "plt.show()"
   ]
  },
  {
   "cell_type": "code",
   "execution_count": 98,
   "id": "9aa347a6",
   "metadata": {
    "ExecuteTime": {
     "end_time": "2023-08-08T13:37:42.814448Z",
     "start_time": "2023-08-08T13:37:42.709087Z"
    }
   },
   "outputs": [
    {
     "data": {
      "text/plain": "<Figure size 2000x600 with 1 Axes>",
      "image/png": "[encoded data removed]"
     },
     "metadata": {},
     "output_type": "display_data"
    }
   ],
   "source": [
    "#Feature Importances\n",
    "feature_importances = rf_regressor.feature_importances_\n",
    "feature_names = x.columns\n",
    "# Calculate feature importances as percentages\n",
    "total_importance = np.sum(feature_importances)\n",
    "feature_importances_percentage = (feature_importances / total_importance) * 100\n",
    "# Create a bar plot\n",
    "plt.figure(figsize=(20, 6))\n",
    "ax = sns.barplot(x=feature_importances_percentage, y=feature_names)\n",
    "plt.xlabel('Feature Importances (%)')\n",
    "plt.ylabel('Features')\n",
    "plt.title('Percentage Contribution of Feature Importances in Predicting Salaries')\n",
    "# Set x-axis ticks to be percentage values\n",
    "ax.set_xticks(feature_importances_percentage)\n",
    "plt.xticks(rotation =90)\n",
    "ax.set_xticklabels([\"{:.2f}%\".format(val) for val in feature_importances_percentage])\n",
    "plt.show()"
   ]
  },
  {
   "cell_type": "code",
   "execution_count": 99,
   "id": "b60f8d9f",
   "metadata": {
    "ExecuteTime": {
     "end_time": "2023-08-08T13:37:42.950735Z",
     "start_time": "2023-08-08T13:37:42.816722Z"
    }
   },
   "outputs": [
    {
     "data": {
      "text/plain": "<Figure size 1000x600 with 1 Axes>",
      "image/png": "[encoded data removed]"
     },
     "metadata": {},
     "output_type": "display_data"
    }
   ],
   "source": [
    "# Analyze Feature Importances for Random Forest Model\n",
    "feature_importances = rf_regressor.feature_importances_\n",
    "feature_names = x.columns\n",
    "plt.figure(figsize=(10, 6))\n",
    "sns.barplot(x=feature_importances, y=feature_names)\n",
    "plt.xlabel('Feature Importances')\n",
    "plt.ylabel('Features')\n",
    "plt.title('Feature Importances in Predicting Salaries')\n",
    "plt.show()"
   ]
  },
  {
   "cell_type": "markdown",
   "id": "41c53343",
   "metadata": {},
   "source": [
    "Hyperparameter Tuning"
   ]
  },
  {
   "cell_type": "code",
   "execution_count": 100,
   "id": "7afe5fa0",
   "metadata": {
    "ExecuteTime": {
     "end_time": "2023-08-08T13:37:42.951529Z",
     "start_time": "2023-08-08T13:37:42.922923Z"
    }
   },
   "outputs": [
    {
     "name": "stdout",
     "output_type": "stream",
     "text": [
      "R-squared (R2) score on testing data with best model: 0.9026705323017562\n"
     ]
    }
   ],
   "source": [
    "# Define the hyperparameter grid for grid search\n",
    "param_grid = {\n",
    "    # LinearRegression has no hyperparameters to tune\n",
    "}\n",
    "\n",
    "# Create a LinearRegression instance\n",
    "regressor_MultiLinear = LinearRegression()\n",
    "\n",
    "# Create a GridSearchCV instance\n",
    "grid_search = GridSearchCV(regressor_MultiLinear, param_grid, cv=5, scoring='r2')\n",
    "\n",
    "# Fit the grid search on the training data\n",
    "grid_search.fit(x_train, y_train)\n",
    "\n",
    "# Get the best model found by grid search\n",
    "best_lr_regressor = grid_search.best_estimator_\n",
    "\n",
    "# Use the best model found by grid search for predictions on test data\n",
    "y_test_predictions = best_lr_regressor.predict(x_test)\n",
    "\n",
    "# Calculate the R2 score on testing data using the best model\n",
    "r2_test = r2_score(y_test, y_test_predictions)\n",
    "print(\"R-squared (R2) score on testing data with best model:\", r2_test)\n"
   ]
  },
  {
   "cell_type": "code",
   "execution_count": 101,
   "id": "02bbefb1",
   "metadata": {
    "ExecuteTime": {
     "end_time": "2023-08-08T13:37:42.951682Z",
     "start_time": "2023-08-08T13:37:42.943999Z"
    }
   },
   "outputs": [
    {
     "data": {
      "text/plain": "GridSearchCV(cv=5, estimator=LinearRegression(), param_grid={}, scoring='r2')"
     },
     "execution_count": 101,
     "metadata": {},
     "output_type": "execute_result"
    }
   ],
   "source": [
    "grid_search"
   ]
  },
  {
   "cell_type": "code",
   "execution_count": 102,
   "id": "5950ef52",
   "metadata": {
    "ExecuteTime": {
     "end_time": "2023-08-08T13:37:48.636540Z",
     "start_time": "2023-08-08T13:37:42.951133Z"
    }
   },
   "outputs": [
    {
     "name": "stdout",
     "output_type": "stream",
     "text": [
      "Best Hyperparameters: {'max_depth': None, 'n_estimators': 50}\n",
      "R-squared (R2) score on testing data with best model: 0.8428529380569051\n"
     ]
    }
   ],
   "source": [
    "# Define the hyperparameter grid for grid search\n",
    "param_grid = {\n",
    "    'n_estimators': [50, 100, 200],\n",
    "    'max_depth': [None, 10, 20, 30]\n",
    "}\n",
    "\n",
    "# Create a GridSearchCV instance\n",
    "grid_search = GridSearchCV(rf_regressor, param_grid, cv=5, scoring='r2')\n",
    "\n",
    "# Fit the grid search on the training data\n",
    "grid_search.fit(x_train, y_train)\n",
    "\n",
    "# Get the best hyperparameters found by grid search\n",
    "best_params = grid_search.best_params_\n",
    "print(\"Best Hyperparameters:\", best_params)\n",
    "\n",
    "# Use the best model found by grid search for predictions on test data\n",
    "best_rf_regressor = grid_search.best_estimator_\n",
    "y_test_predictions = best_rf_regressor.predict(x_test)\n",
    "\n",
    "# Calculate the R2 score on testing data using the best model\n",
    "r2_test = r2_score(y_test, y_test_predictions)\n",
    "print(\"R-squared (R2) score on testing data with best model:\", r2_test)"
   ]
  },
  {
   "cell_type": "code",
   "execution_count": 103,
   "id": "710bafea",
   "metadata": {
    "ExecuteTime": {
     "end_time": "2023-08-08T13:37:48.645526Z",
     "start_time": "2023-08-08T13:37:48.638377Z"
    }
   },
   "outputs": [],
   "source": [
    "#DO NOT TOUCH RHE BELOW CODE!!!"
   ]
  },
  {
   "cell_type": "code",
   "execution_count": 104,
   "id": "bf346098",
   "metadata": {
    "ExecuteTime": {
     "end_time": "2023-08-08T13:38:00.235471Z",
     "start_time": "2023-08-08T13:37:48.645680Z"
    }
   },
   "outputs": [
    {
     "name": "stdout",
     "output_type": "stream",
     "text": [
      "Please enter a valid integer.\n",
      "For a worker with the below demographic factors;\n",
      "Years of Experience:  1\n",
      "Education Level (Bachelor: 0, Master: 1, PhD: 2): 1\n",
      "Senior position (Yes: 1, No: 0): 2\n",
      "Department (Accounts and Finance (0), HR and Administration (1), IT and Technical services (2), Marketing and Creative (3), Sales (4)): 0\n",
      "The expected salary is $53383.37\n"
     ]
    },
    {
     "name": "stderr",
     "output_type": "stream",
     "text": [
      "/Users/nghiadoanhieu/opt/anaconda3/lib/python3.9/site-packages/sklearn/base.py:450: UserWarning:\n",
      "\n",
      "X does not have valid feature names, but LinearRegression was fitted with feature names\n",
      "\n"
     ]
    }
   ],
   "source": [
    "def get_user_input():\n",
    "    def get_integer_input(prompt):\n",
    "        while True:\n",
    "            try:\n",
    "                value = int(input(prompt))\n",
    "                return value\n",
    "            except ValueError:\n",
    "                print(\"Please enter a valid integer.\")\n",
    "    def get_valid_education_input():\n",
    "        while True:\n",
    "            education = input(\"What is your level of education? (Bachelor, Master, PhD): \").strip().capitalize()\n",
    "            if education in [\"Bachelor\", \"Master\", \"Phd\"]:\n",
    "                return {\"Bachelor\": 0, \"Master\": 1, \"Phd\": 2}[education]\n",
    "            else:\n",
    "                print(\"Please enter 'Bachelor', 'Master', or 'PhD'.\")\n",
    "    def get_valid_senior_position_input():\n",
    "        while True:\n",
    "            position = input(\"Are you in a senior position? (Yes or No): \").strip().capitalize()\n",
    "            if position in [\"Yes\", \"No\"]:\n",
    "                return 1 if position == \"Yes\" else 0\n",
    "            else:\n",
    "                print(\"Please enter 'Yes' or 'No'.\")\n",
    "    def get_department_input():\n",
    "        departments = [\n",
    "            \"Accounts and Finance\"\n",
    "            \"HR and Administration\",\n",
    "            \"IT and Technical services\",\n",
    "            \"Marketing and Creative\",\n",
    "            \"Sales\"\n",
    "        ]\n",
    "        while True:\n",
    "            choice = input(\"Select your department (0-4): Accounts and Finance (0), HR and Administration (1), IT and Technical services (2), Marketing and Creative (3), Sales (4)\")\n",
    "            if choice.isdigit() and 0 <= int(choice) <= len(departments):\n",
    "                return int(choice)\n",
    "            else:\n",
    "                print(\"Please enter a valid department number (0-4).\")\n",
    "    experience = get_integer_input(\"How many years of experience do you have? \")\n",
    "    education = get_valid_education_input()\n",
    "    senior_position = get_valid_senior_position_input()\n",
    "    department = int(get_department_input())\n",
    "    return [experience, senior_position, education, department]\n",
    "if __name__ == \"__main__\":\n",
    "    user_info = get_user_input()\n",
    "    y_pred = best_lr_regressor.predict([user_info])\n",
    "    print(\"For a worker with the below demographic factors;\")\n",
    "    print(\"Years of Experience: \", user_info[0])\n",
    "    print(\"Education Level (Bachelor: 0, Master: 1, PhD: 2):\", user_info[1])\n",
    "    print(\"Senior position (Yes: 1, No: 0):\", user_info[2])\n",
    "    print(\"Department (Accounts and Finance (0), HR and Administration (1), IT and Technical services (2), Marketing and Creative (3), Sales (4)):\", user_info[3])\n",
    "    print(f\"The expected salary is ${y_pred[0]:.2f}\")"
   ]
  }
 ],
 "metadata": {
  "kernelspec": {
   "display_name": "dev",
   "language": "python",
   "name": "python3"
  },
  "language_info": {
   "codemirror_mode": {
    "name": "ipython",
    "version": 3
   },
   "file_extension": ".py",
   "mimetype": "text/x-python",
   "name": "python",
   "nbconvert_exporter": "python",
   "pygments_lexer": "ipython3",
   "version": "3.10.9"
  }
 },
 "nbformat": 4,
 "nbformat_minor": 5
}

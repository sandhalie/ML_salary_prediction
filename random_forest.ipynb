{
 "cells": [
  {
   "cell_type": "code",
   "execution_count": 1,
   "id": "initial_id",
   "metadata": {
    "collapsed": true,
    "ExecuteTime": {
     "end_time": "2023-08-02T03:42:33.921878Z",
     "start_time": "2023-08-02T03:42:32.194263Z"
    }
   },
   "outputs": [],
   "source": [
    "import pandas as pd\n",
    "from pathlib import Path\n",
    "from sklearn.ensemble import RandomForestClassifier\n",
    "from sklearn.preprocessing import StandardScaler\n",
    "from sklearn.model_selection import train_test_split\n",
    "from sklearn.metrics import confusion_matrix, accuracy_score, classification_report"
   ]
  },
  {
   "cell_type": "code",
   "execution_count": 3,
   "outputs": [
    {
     "data": {
      "text/plain": "    Age  Gender Education Level          Job Title  Years of Experience  \\\n0  32.0    Male      Bachelor's  Software Engineer                  5.0   \n1  28.0  Female        Master's       Data Analyst                  3.0   \n2  45.0    Male             PhD     Senior Manager                 15.0   \n3  36.0  Female      Bachelor's    Sales Associate                  7.0   \n4  52.0    Male        Master's           Director                 20.0   \n\n     Salary  \n0   90000.0  \n1   65000.0  \n2  150000.0  \n3   60000.0  \n4  200000.0  ",
      "text/html": "<div>\n<style scoped>\n    .dataframe tbody tr th:only-of-type {\n        vertical-align: middle;\n    }\n\n    .dataframe tbody tr th {\n        vertical-align: top;\n    }\n\n    .dataframe thead th {\n        text-align: right;\n    }\n</style>\n<table border=\"1\" class=\"dataframe\">\n  <thead>\n    <tr style=\"text-align: right;\">\n      <th></th>\n      <th>Age</th>\n      <th>Gender</th>\n      <th>Education Level</th>\n      <th>Job Title</th>\n      <th>Years of Experience</th>\n      <th>Salary</th>\n    </tr>\n  </thead>\n  <tbody>\n    <tr>\n      <th>0</th>\n      <td>32.0</td>\n      <td>Male</td>\n      <td>Bachelor's</td>\n      <td>Software Engineer</td>\n      <td>5.0</td>\n      <td>90000.0</td>\n    </tr>\n    <tr>\n      <th>1</th>\n      <td>28.0</td>\n      <td>Female</td>\n      <td>Master's</td>\n      <td>Data Analyst</td>\n      <td>3.0</td>\n      <td>65000.0</td>\n    </tr>\n    <tr>\n      <th>2</th>\n      <td>45.0</td>\n      <td>Male</td>\n      <td>PhD</td>\n      <td>Senior Manager</td>\n      <td>15.0</td>\n      <td>150000.0</td>\n    </tr>\n    <tr>\n      <th>3</th>\n      <td>36.0</td>\n      <td>Female</td>\n      <td>Bachelor's</td>\n      <td>Sales Associate</td>\n      <td>7.0</td>\n      <td>60000.0</td>\n    </tr>\n    <tr>\n      <th>4</th>\n      <td>52.0</td>\n      <td>Male</td>\n      <td>Master's</td>\n      <td>Director</td>\n      <td>20.0</td>\n      <td>200000.0</td>\n    </tr>\n  </tbody>\n</table>\n</div>"
     },
     "execution_count": 3,
     "metadata": {},
     "output_type": "execute_result"
    }
   ],
   "source": [
    "df_salary_data = pd.read_csv(\"Salary Data.csv\")\n",
    "df_salary_data.head()"
   ],
   "metadata": {
    "collapsed": false,
    "ExecuteTime": {
     "end_time": "2023-08-02T03:42:48.811731Z",
     "start_time": "2023-08-02T03:42:48.794097Z"
    }
   },
   "id": "a17de1d22e615e8"
  },
  {
   "cell_type": "code",
   "execution_count": 4,
   "outputs": [],
   "source": [
    "# Define features set"
   ],
   "metadata": {
    "collapsed": false,
    "ExecuteTime": {
     "end_time": "2023-08-02T03:43:44.592943Z",
     "start_time": "2023-08-02T03:43:44.589388Z"
    }
   },
   "id": "de768bf2b04e1154"
  },
  {
   "cell_type": "code",
   "execution_count": 5,
   "outputs": [],
   "source": [
    "# Define target vector"
   ],
   "metadata": {
    "collapsed": false,
    "ExecuteTime": {
     "end_time": "2023-08-02T03:43:54.236341Z",
     "start_time": "2023-08-02T03:43:54.231945Z"
    }
   },
   "id": "5cf5a58cb5a08c43"
  },
  {
   "cell_type": "code",
   "execution_count": 6,
   "outputs": [],
   "source": [
    "# Splitting into Train and Test sets"
   ],
   "metadata": {
    "collapsed": false,
    "ExecuteTime": {
     "end_time": "2023-08-02T03:44:03.781155Z",
     "start_time": "2023-08-02T03:44:03.777386Z"
    }
   },
   "id": "80383b07aeb19309"
  },
  {
   "cell_type": "code",
   "execution_count": 7,
   "outputs": [],
   "source": [
    "# Creating StandardScaler instance"
   ],
   "metadata": {
    "collapsed": false,
    "ExecuteTime": {
     "end_time": "2023-08-02T03:44:23.510040Z",
     "start_time": "2023-08-02T03:44:23.506413Z"
    }
   },
   "id": "6d9ff6866bf7cebc"
  },
  {
   "cell_type": "code",
   "execution_count": null,
   "outputs": [],
   "source": [],
   "metadata": {
    "collapsed": false
   },
   "id": "3884d6800c10c1f9"
  }
 ],
 "metadata": {
  "kernelspec": {
   "display_name": "Python 3",
   "language": "python",
   "name": "python3"
  },
  "language_info": {
   "codemirror_mode": {
    "name": "ipython",
    "version": 2
   },
   "file_extension": ".py",
   "mimetype": "text/x-python",
   "name": "python",
   "nbconvert_exporter": "python",
   "pygments_lexer": "ipython2",
   "version": "2.7.6"
  }
 },
 "nbformat": 4,
 "nbformat_minor": 5
}

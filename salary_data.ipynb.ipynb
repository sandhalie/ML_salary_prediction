{
 "cells": [
  {
   "cell_type": "code",
   "execution_count": 88,
   "id": "9d9639d9",
   "metadata": {},
   "outputs": [],
   "source": [
    "import pandas as pd"
   ]
  },
  {
   "cell_type": "code",
   "execution_count": 89,
   "id": "e7a7125b",
   "metadata": {},
   "outputs": [],
   "source": [
    "#Read csv file  Salary Data \n",
    "File_path = \"Salary Data.csv\""
   ]
  },
  {
   "cell_type": "code",
   "execution_count": 90,
   "id": "bf2b9406",
   "metadata": {},
   "outputs": [
    {
     "data": {
      "text/html": [
       "<div>\n",
       "<style scoped>\n",
       "    .dataframe tbody tr th:only-of-type {\n",
       "        vertical-align: middle;\n",
       "    }\n",
       "\n",
       "    .dataframe tbody tr th {\n",
       "        vertical-align: top;\n",
       "    }\n",
       "\n",
       "    .dataframe thead th {\n",
       "        text-align: right;\n",
       "    }\n",
       "</style>\n",
       "<table border=\"1\" class=\"dataframe\">\n",
       "  <thead>\n",
       "    <tr style=\"text-align: right;\">\n",
       "      <th></th>\n",
       "      <th>Age</th>\n",
       "      <th>Gender</th>\n",
       "      <th>Education Level</th>\n",
       "      <th>Job Title</th>\n",
       "      <th>Years of Experience</th>\n",
       "      <th>Salary</th>\n",
       "    </tr>\n",
       "  </thead>\n",
       "  <tbody>\n",
       "    <tr>\n",
       "      <th>0</th>\n",
       "      <td>32.0</td>\n",
       "      <td>Male</td>\n",
       "      <td>Bachelor's</td>\n",
       "      <td>Software Engineer</td>\n",
       "      <td>5.0</td>\n",
       "      <td>90000.0</td>\n",
       "    </tr>\n",
       "    <tr>\n",
       "      <th>1</th>\n",
       "      <td>28.0</td>\n",
       "      <td>Female</td>\n",
       "      <td>Master's</td>\n",
       "      <td>Data Analyst</td>\n",
       "      <td>3.0</td>\n",
       "      <td>65000.0</td>\n",
       "    </tr>\n",
       "    <tr>\n",
       "      <th>2</th>\n",
       "      <td>45.0</td>\n",
       "      <td>Male</td>\n",
       "      <td>PhD</td>\n",
       "      <td>Senior Manager</td>\n",
       "      <td>15.0</td>\n",
       "      <td>150000.0</td>\n",
       "    </tr>\n",
       "    <tr>\n",
       "      <th>3</th>\n",
       "      <td>36.0</td>\n",
       "      <td>Female</td>\n",
       "      <td>Bachelor's</td>\n",
       "      <td>Sales Associate</td>\n",
       "      <td>7.0</td>\n",
       "      <td>60000.0</td>\n",
       "    </tr>\n",
       "    <tr>\n",
       "      <th>4</th>\n",
       "      <td>52.0</td>\n",
       "      <td>Male</td>\n",
       "      <td>Master's</td>\n",
       "      <td>Director</td>\n",
       "      <td>20.0</td>\n",
       "      <td>200000.0</td>\n",
       "    </tr>\n",
       "  </tbody>\n",
       "</table>\n",
       "</div>"
      ],
      "text/plain": [
       "    Age  Gender Education Level          Job Title  Years of Experience   \n",
       "0  32.0    Male      Bachelor's  Software Engineer                  5.0  \\\n",
       "1  28.0  Female        Master's       Data Analyst                  3.0   \n",
       "2  45.0    Male             PhD     Senior Manager                 15.0   \n",
       "3  36.0  Female      Bachelor's    Sales Associate                  7.0   \n",
       "4  52.0    Male        Master's           Director                 20.0   \n",
       "\n",
       "     Salary  \n",
       "0   90000.0  \n",
       "1   65000.0  \n",
       "2  150000.0  \n",
       "3   60000.0  \n",
       "4  200000.0  "
      ]
     },
     "execution_count": 90,
     "metadata": {},
     "output_type": "execute_result"
    }
   ],
   "source": [
    "#Create Slary DataFrame\n",
    "salary_data_df = pd.read_csv(File_path)\n",
    "salary_data_df.head()"
   ]
  },
  {
   "cell_type": "code",
   "execution_count": 91,
   "id": "14f8edd3",
   "metadata": {},
   "outputs": [
    {
     "name": "stdout",
     "output_type": "stream",
     "text": [
      "      Age  Gender Education Level                      Job Title   \n",
      "0    32.0    Male      Bachelor's              Software Engineer  \\\n",
      "1    28.0  Female        Master's                   Data Analyst   \n",
      "2    45.0    Male             PhD                 Senior Manager   \n",
      "3    36.0  Female      Bachelor's                Sales Associate   \n",
      "4    52.0    Male        Master's                       Director   \n",
      "..    ...     ...             ...                            ...   \n",
      "370  35.0  Female      Bachelor's       Senior Marketing Analyst   \n",
      "371  43.0    Male        Master's         Director of Operations   \n",
      "372  29.0  Female      Bachelor's         Junior Project Manager   \n",
      "373  34.0    Male      Bachelor's  Senior Operations Coordinator   \n",
      "374  44.0  Female             PhD        Senior Business Analyst   \n",
      "\n",
      "     Years of Experience    Salary  \n",
      "0                    5.0   90000.0  \n",
      "1                    3.0   65000.0  \n",
      "2                   15.0  150000.0  \n",
      "3                    7.0   60000.0  \n",
      "4                   20.0  200000.0  \n",
      "..                   ...       ...  \n",
      "370                  8.0   85000.0  \n",
      "371                 19.0  170000.0  \n",
      "372                  2.0   40000.0  \n",
      "373                  7.0   90000.0  \n",
      "374                 15.0  150000.0  \n",
      "\n",
      "[375 rows x 6 columns]\n"
     ]
    }
   ],
   "source": [
    "# Check detail of the data\n",
    "print(salary_data_df)"
   ]
  },
  {
   "cell_type": "code",
   "execution_count": 94,
   "id": "75f43cb4",
   "metadata": {},
   "outputs": [
    {
     "name": "stdout",
     "output_type": "stream",
     "text": [
      "Age                    2\n",
      "Gender                 2\n",
      "Education Level        2\n",
      "Job Title              2\n",
      "Years of Experience    2\n",
      "Salary                 2\n",
      "dtype: int64\n"
     ]
    }
   ],
   "source": [
    "# Check for null or missing values in the DataFrame\n",
    "print(salary_data_df.isnull().sum())"
   ]
  },
  {
   "cell_type": "code",
   "execution_count": 95,
   "id": "248a9b2f",
   "metadata": {},
   "outputs": [
    {
     "name": "stdout",
     "output_type": "stream",
     "text": [
      "\n",
      "Cleaned DataFrame:\n",
      "    Age  Gender Education_Level          Job_Title  Years_Exp  Annual_Salary\n",
      "0  32.0    Male      Bachelor's  Software Engineer        5.0        90000.0\n",
      "1  28.0  Female        Master's       Data Analyst        3.0        65000.0\n",
      "2  45.0    Male             PhD     Senior Manager       15.0       150000.0\n",
      "3  36.0  Female      Bachelor's    Sales Associate        7.0        60000.0\n",
      "4  52.0    Male        Master's           Director       20.0       200000.0\n"
     ]
    }
   ],
   "source": [
    "# Fill missing values with 0\n",
    "salary_data_df.fillna(0, inplace=True)\n",
    "\n",
    "# Remove duplicates if any\n",
    "salary_data_df.drop_duplicates(inplace=True)\n",
    "\n",
    "# Convert 'Salary' and 'Years of Experience' columns to numeric\n",
    "salary_data_df['Salary'] = pd.to_numeric(salary_data_df['Salary'], errors='coerce')\n",
    "salary_data_df['Years of Experience'] = pd.to_numeric(salary_data_df['Years of Experience'], errors='coerce')\n",
    "\n",
    "# Rename columns for clarity\n",
    "salary_data_df.rename(columns={\n",
    "    'Years of Experience': 'Years_Exp',\n",
    "    'Salary': 'Annual_Salary',\n",
    "    'Education Level': 'Education_Level',\n",
    "    'Job Title': 'Job_Title'\n",
    "}, inplace=True)\n",
    "\n",
    "# Print the cleaned DataFrame\n",
    "print(\"\\nCleaned DataFrame:\")\n",
    "print(salary_data_df.head())\n"
   ]
  },
  {
   "cell_type": "code",
   "execution_count": 96,
   "id": "c91ecd06",
   "metadata": {},
   "outputs": [
    {
     "name": "stdout",
     "output_type": "stream",
     "text": [
      "\n",
      "Average Annual Salary: 99678.0\n"
     ]
    }
   ],
   "source": [
    "# Calculate the average salary\n",
    "average_salary = salary_data_df['Annual_Salary'].mean()\n",
    "\n",
    "# Print the average salary\n",
    "print(\"\\nAverage Annual Salary:\", average_salary)"
   ]
  },
  {
   "cell_type": "code",
   "execution_count": 97,
   "id": "bfcf40ce",
   "metadata": {},
   "outputs": [
    {
     "name": "stdout",
     "output_type": "stream",
     "text": [
      "\n",
      "Standard Deviation of Annual Salary: 48892.72160481482\n"
     ]
    }
   ],
   "source": [
    "# Calculate the standard deviation of 'Annual_Salary'\n",
    "salary_std_deviation = salary_data_df['Annual_Salary'].std()\n",
    "\n",
    "# Print the standard deviation\n",
    "print(\"\\nStandard Deviation of Annual Salary:\", salary_std_deviation)"
   ]
  },
  {
   "cell_type": "code",
   "execution_count": 98,
   "id": "8114efcf",
   "metadata": {},
   "outputs": [
    {
     "name": "stdout",
     "output_type": "stream",
     "text": [
      "\n",
      "Average Annual Salary for Male: 103472.64705882352\n"
     ]
    }
   ],
   "source": [
    "# Calculate the average salary for the 'Male' category\n",
    "average_salary_male = salary_data_df[salary_data_df['Gender'] == 'Male']['Annual_Salary'].mean()\n",
    "\n",
    "# Print the average salary for Male\n",
    "print(\"\\nAverage Annual Salary for Male:\", average_salary_male)"
   ]
  },
  {
   "cell_type": "code",
   "execution_count": 99,
   "id": "c52981da",
   "metadata": {},
   "outputs": [
    {
     "name": "stdout",
     "output_type": "stream",
     "text": [
      "\n",
      "Average annual Salary for Female: 96136.36363636363\n"
     ]
    }
   ],
   "source": [
    "# Calculate the average salary for the 'Female' category\n",
    "average_salary_female = salary_data_df[salary_data_df['Gender'] == 'Female']['Annual_Salary'].mean()\n",
    "\n",
    "# Print the average salary for Female\n",
    "print(\"\\nAverage annual Salary for Female:\", average_salary_female)"
   ]
  },
  {
   "cell_type": "code",
   "execution_count": 100,
   "id": "b471bc5b",
   "metadata": {},
   "outputs": [
    {
     "name": "stdout",
     "output_type": "stream",
     "text": [
      "\n",
      "Average  Annual Salary by Education Level:\n",
      "Education_Level\n",
      "0                  0.00\n",
      "Bachelor's     73902.36\n",
      "Master's      127912.09\n",
      "PhD           158095.24\n",
      "Name: Annual_Salary, dtype: float64\n"
     ]
    }
   ],
   "source": [
    "# Calculate the average 'Annual_Salary' for each 'Education_Level' category\n",
    "average_salary_by_education = salary_data_df.groupby('Education_Level')['Annual_Salary'].mean()\n",
    "# Round the average salary to two decimal places\n",
    "average_salary_by_education = average_salary_by_education.round(2)\n",
    "# Print the average salary for each education level category\n",
    "print(\"\\nAverage  Annual Salary by Education Level:\")\n",
    "print(average_salary_by_education)"
   ]
  },
  {
   "cell_type": "code",
   "execution_count": 101,
   "id": "914b45a3",
   "metadata": {},
   "outputs": [
    {
     "name": "stdout",
     "output_type": "stream",
     "text": [
      "Average Annual Salary for both Male and Female by Education Level:\n",
      "Gender  Education_Level\n",
      "0       0                       0.000000\n",
      "Female  Bachelor's          70517.241379\n",
      "        Master's           119375.000000\n",
      "        PhD                154736.842105\n",
      "Male    Bachelor's          76734.134615\n",
      "        Master's           137441.860465\n",
      "        PhD                160869.565217\n",
      "Name: Annual_Salary, dtype: float64\n"
     ]
    }
   ],
   "source": [
    "import pandas as pd\n",
    "\n",
    "# Calculate the average 'Annual_Salary' for each 'Education_Level' for Male and Female\n",
    "average_salary_by_gender_education = salary_data_df.groupby(['Gender', 'Education_Level'])['Annual_Salary'].mean()\n",
    "\n",
    "# Display the results\n",
    "print(\"Average Annual Salary for both Male and Female by Education Level:\")\n",
    "print(average_salary_by_gender_education)\n"
   ]
  },
  {
   "cell_type": "code",
   "execution_count": 102,
   "id": "80e8f40c",
   "metadata": {},
   "outputs": [
    {
     "data": {
      "application/vnd.plotly.v1+json": {
       "config": {
        "plotlyServerURL": "https://plot.ly"
       },
       "data": [
        {
         "line": {
          "color": "blue"
         },
         "mode": "lines+markers",
         "name": "Male",
         "type": "scatter",
         "x": [
          "Bachelor's",
          "Master's",
          "PhD"
         ],
         "y": [
          76734.13,
          137441.86,
          160869.57
         ]
        },
        {
         "line": {
          "color": "red"
         },
         "mode": "lines+markers",
         "name": "Female",
         "type": "scatter",
         "x": [
          "Bachelor's",
          "Master's",
          "PhD"
         ],
         "y": [
          70517.24,
          119375,
          154736.84
         ]
        },
        {
         "line": {
          "color": "green",
          "dash": "dash"
         },
         "mode": "lines+markers",
         "name": "Overall (All Genders)",
         "type": "scatter",
         "x": [
          "Bachelor's",
          "Master's",
          "PhD"
         ],
         "y": [
          73625.68,
          128408.43,
          157803.21
         ]
        }
       ],
       "layout": {
        "height": 500,
        "legend": {
         "x": 0.1,
         "y": 0.9
        },
        "template": {
         "data": {
          "bar": [
           {
            "error_x": {
             "color": "#2a3f5f"
            },
            "error_y": {
             "color": "#2a3f5f"
            },
            "marker": {
             "line": {
              "color": "#E5ECF6",
              "width": 0.5
             },
             "pattern": {
              "fillmode": "overlay",
              "size": 10,
              "solidity": 0.2
             }
            },
            "type": "bar"
           }
          ],
          "barpolar": [
           {
            "marker": {
             "line": {
              "color": "#E5ECF6",
              "width": 0.5
             },
             "pattern": {
              "fillmode": "overlay",
              "size": 10,
              "solidity": 0.2
             }
            },
            "type": "barpolar"
           }
          ],
          "carpet": [
           {
            "aaxis": {
             "endlinecolor": "#2a3f5f",
             "gridcolor": "white",
             "linecolor": "white",
             "minorgridcolor": "white",
             "startlinecolor": "#2a3f5f"
            },
            "baxis": {
             "endlinecolor": "#2a3f5f",
             "gridcolor": "white",
             "linecolor": "white",
             "minorgridcolor": "white",
             "startlinecolor": "#2a3f5f"
            },
            "type": "carpet"
           }
          ],
          "choropleth": [
           {
            "colorbar": {
             "outlinewidth": 0,
             "ticks": ""
            },
            "type": "choropleth"
           }
          ],
          "contour": [
           {
            "colorbar": {
             "outlinewidth": 0,
             "ticks": ""
            },
            "colorscale": [
             [
              0,
              "#0d0887"
             ],
             [
              0.1111111111111111,
              "#46039f"
             ],
             [
              0.2222222222222222,
              "#7201a8"
             ],
             [
              0.3333333333333333,
              "#9c179e"
             ],
             [
              0.4444444444444444,
              "#bd3786"
             ],
             [
              0.5555555555555556,
              "#d8576b"
             ],
             [
              0.6666666666666666,
              "#ed7953"
             ],
             [
              0.7777777777777778,
              "#fb9f3a"
             ],
             [
              0.8888888888888888,
              "#fdca26"
             ],
             [
              1,
              "#f0f921"
             ]
            ],
            "type": "contour"
           }
          ],
          "contourcarpet": [
           {
            "colorbar": {
             "outlinewidth": 0,
             "ticks": ""
            },
            "type": "contourcarpet"
           }
          ],
          "heatmap": [
           {
            "colorbar": {
             "outlinewidth": 0,
             "ticks": ""
            },
            "colorscale": [
             [
              0,
              "#0d0887"
             ],
             [
              0.1111111111111111,
              "#46039f"
             ],
             [
              0.2222222222222222,
              "#7201a8"
             ],
             [
              0.3333333333333333,
              "#9c179e"
             ],
             [
              0.4444444444444444,
              "#bd3786"
             ],
             [
              0.5555555555555556,
              "#d8576b"
             ],
             [
              0.6666666666666666,
              "#ed7953"
             ],
             [
              0.7777777777777778,
              "#fb9f3a"
             ],
             [
              0.8888888888888888,
              "#fdca26"
             ],
             [
              1,
              "#f0f921"
             ]
            ],
            "type": "heatmap"
           }
          ],
          "heatmapgl": [
           {
            "colorbar": {
             "outlinewidth": 0,
             "ticks": ""
            },
            "colorscale": [
             [
              0,
              "#0d0887"
             ],
             [
              0.1111111111111111,
              "#46039f"
             ],
             [
              0.2222222222222222,
              "#7201a8"
             ],
             [
              0.3333333333333333,
              "#9c179e"
             ],
             [
              0.4444444444444444,
              "#bd3786"
             ],
             [
              0.5555555555555556,
              "#d8576b"
             ],
             [
              0.6666666666666666,
              "#ed7953"
             ],
             [
              0.7777777777777778,
              "#fb9f3a"
             ],
             [
              0.8888888888888888,
              "#fdca26"
             ],
             [
              1,
              "#f0f921"
             ]
            ],
            "type": "heatmapgl"
           }
          ],
          "histogram": [
           {
            "marker": {
             "pattern": {
              "fillmode": "overlay",
              "size": 10,
              "solidity": 0.2
             }
            },
            "type": "histogram"
           }
          ],
          "histogram2d": [
           {
            "colorbar": {
             "outlinewidth": 0,
             "ticks": ""
            },
            "colorscale": [
             [
              0,
              "#0d0887"
             ],
             [
              0.1111111111111111,
              "#46039f"
             ],
             [
              0.2222222222222222,
              "#7201a8"
             ],
             [
              0.3333333333333333,
              "#9c179e"
             ],
             [
              0.4444444444444444,
              "#bd3786"
             ],
             [
              0.5555555555555556,
              "#d8576b"
             ],
             [
              0.6666666666666666,
              "#ed7953"
             ],
             [
              0.7777777777777778,
              "#fb9f3a"
             ],
             [
              0.8888888888888888,
              "#fdca26"
             ],
             [
              1,
              "#f0f921"
             ]
            ],
            "type": "histogram2d"
           }
          ],
          "histogram2dcontour": [
           {
            "colorbar": {
             "outlinewidth": 0,
             "ticks": ""
            },
            "colorscale": [
             [
              0,
              "#0d0887"
             ],
             [
              0.1111111111111111,
              "#46039f"
             ],
             [
              0.2222222222222222,
              "#7201a8"
             ],
             [
              0.3333333333333333,
              "#9c179e"
             ],
             [
              0.4444444444444444,
              "#bd3786"
             ],
             [
              0.5555555555555556,
              "#d8576b"
             ],
             [
              0.6666666666666666,
              "#ed7953"
             ],
             [
              0.7777777777777778,
              "#fb9f3a"
             ],
             [
              0.8888888888888888,
              "#fdca26"
             ],
             [
              1,
              "#f0f921"
             ]
            ],
            "type": "histogram2dcontour"
           }
          ],
          "mesh3d": [
           {
            "colorbar": {
             "outlinewidth": 0,
             "ticks": ""
            },
            "type": "mesh3d"
           }
          ],
          "parcoords": [
           {
            "line": {
             "colorbar": {
              "outlinewidth": 0,
              "ticks": ""
             }
            },
            "type": "parcoords"
           }
          ],
          "pie": [
           {
            "automargin": true,
            "type": "pie"
           }
          ],
          "scatter": [
           {
            "fillpattern": {
             "fillmode": "overlay",
             "size": 10,
             "solidity": 0.2
            },
            "type": "scatter"
           }
          ],
          "scatter3d": [
           {
            "line": {
             "colorbar": {
              "outlinewidth": 0,
              "ticks": ""
             }
            },
            "marker": {
             "colorbar": {
              "outlinewidth": 0,
              "ticks": ""
             }
            },
            "type": "scatter3d"
           }
          ],
          "scattercarpet": [
           {
            "marker": {
             "colorbar": {
              "outlinewidth": 0,
              "ticks": ""
             }
            },
            "type": "scattercarpet"
           }
          ],
          "scattergeo": [
           {
            "marker": {
             "colorbar": {
              "outlinewidth": 0,
              "ticks": ""
             }
            },
            "type": "scattergeo"
           }
          ],
          "scattergl": [
           {
            "marker": {
             "colorbar": {
              "outlinewidth": 0,
              "ticks": ""
             }
            },
            "type": "scattergl"
           }
          ],
          "scattermapbox": [
           {
            "marker": {
             "colorbar": {
              "outlinewidth": 0,
              "ticks": ""
             }
            },
            "type": "scattermapbox"
           }
          ],
          "scatterpolar": [
           {
            "marker": {
             "colorbar": {
              "outlinewidth": 0,
              "ticks": ""
             }
            },
            "type": "scatterpolar"
           }
          ],
          "scatterpolargl": [
           {
            "marker": {
             "colorbar": {
              "outlinewidth": 0,
              "ticks": ""
             }
            },
            "type": "scatterpolargl"
           }
          ],
          "scatterternary": [
           {
            "marker": {
             "colorbar": {
              "outlinewidth": 0,
              "ticks": ""
             }
            },
            "type": "scatterternary"
           }
          ],
          "surface": [
           {
            "colorbar": {
             "outlinewidth": 0,
             "ticks": ""
            },
            "colorscale": [
             [
              0,
              "#0d0887"
             ],
             [
              0.1111111111111111,
              "#46039f"
             ],
             [
              0.2222222222222222,
              "#7201a8"
             ],
             [
              0.3333333333333333,
              "#9c179e"
             ],
             [
              0.4444444444444444,
              "#bd3786"
             ],
             [
              0.5555555555555556,
              "#d8576b"
             ],
             [
              0.6666666666666666,
              "#ed7953"
             ],
             [
              0.7777777777777778,
              "#fb9f3a"
             ],
             [
              0.8888888888888888,
              "#fdca26"
             ],
             [
              1,
              "#f0f921"
             ]
            ],
            "type": "surface"
           }
          ],
          "table": [
           {
            "cells": {
             "fill": {
              "color": "#EBF0F8"
             },
             "line": {
              "color": "white"
             }
            },
            "header": {
             "fill": {
              "color": "#C8D4E3"
             },
             "line": {
              "color": "white"
             }
            },
            "type": "table"
           }
          ]
         },
         "layout": {
          "annotationdefaults": {
           "arrowcolor": "#2a3f5f",
           "arrowhead": 0,
           "arrowwidth": 1
          },
          "autotypenumbers": "strict",
          "coloraxis": {
           "colorbar": {
            "outlinewidth": 0,
            "ticks": ""
           }
          },
          "colorscale": {
           "diverging": [
            [
             0,
             "#8e0152"
            ],
            [
             0.1,
             "#c51b7d"
            ],
            [
             0.2,
             "#de77ae"
            ],
            [
             0.3,
             "#f1b6da"
            ],
            [
             0.4,
             "#fde0ef"
            ],
            [
             0.5,
             "#f7f7f7"
            ],
            [
             0.6,
             "#e6f5d0"
            ],
            [
             0.7,
             "#b8e186"
            ],
            [
             0.8,
             "#7fbc41"
            ],
            [
             0.9,
             "#4d9221"
            ],
            [
             1,
             "#276419"
            ]
           ],
           "sequential": [
            [
             0,
             "#0d0887"
            ],
            [
             0.1111111111111111,
             "#46039f"
            ],
            [
             0.2222222222222222,
             "#7201a8"
            ],
            [
             0.3333333333333333,
             "#9c179e"
            ],
            [
             0.4444444444444444,
             "#bd3786"
            ],
            [
             0.5555555555555556,
             "#d8576b"
            ],
            [
             0.6666666666666666,
             "#ed7953"
            ],
            [
             0.7777777777777778,
             "#fb9f3a"
            ],
            [
             0.8888888888888888,
             "#fdca26"
            ],
            [
             1,
             "#f0f921"
            ]
           ],
           "sequentialminus": [
            [
             0,
             "#0d0887"
            ],
            [
             0.1111111111111111,
             "#46039f"
            ],
            [
             0.2222222222222222,
             "#7201a8"
            ],
            [
             0.3333333333333333,
             "#9c179e"
            ],
            [
             0.4444444444444444,
             "#bd3786"
            ],
            [
             0.5555555555555556,
             "#d8576b"
            ],
            [
             0.6666666666666666,
             "#ed7953"
            ],
            [
             0.7777777777777778,
             "#fb9f3a"
            ],
            [
             0.8888888888888888,
             "#fdca26"
            ],
            [
             1,
             "#f0f921"
            ]
           ]
          },
          "colorway": [
           "#636efa",
           "#EF553B",
           "#00cc96",
           "#ab63fa",
           "#FFA15A",
           "#19d3f3",
           "#FF6692",
           "#B6E880",
           "#FF97FF",
           "#FECB52"
          ],
          "font": {
           "color": "#2a3f5f"
          },
          "geo": {
           "bgcolor": "white",
           "lakecolor": "white",
           "landcolor": "#E5ECF6",
           "showlakes": true,
           "showland": true,
           "subunitcolor": "white"
          },
          "hoverlabel": {
           "align": "left"
          },
          "hovermode": "closest",
          "mapbox": {
           "style": "light"
          },
          "paper_bgcolor": "white",
          "plot_bgcolor": "#E5ECF6",
          "polar": {
           "angularaxis": {
            "gridcolor": "white",
            "linecolor": "white",
            "ticks": ""
           },
           "bgcolor": "#E5ECF6",
           "radialaxis": {
            "gridcolor": "white",
            "linecolor": "white",
            "ticks": ""
           }
          },
          "scene": {
           "xaxis": {
            "backgroundcolor": "#E5ECF6",
            "gridcolor": "white",
            "gridwidth": 2,
            "linecolor": "white",
            "showbackground": true,
            "ticks": "",
            "zerolinecolor": "white"
           },
           "yaxis": {
            "backgroundcolor": "#E5ECF6",
            "gridcolor": "white",
            "gridwidth": 2,
            "linecolor": "white",
            "showbackground": true,
            "ticks": "",
            "zerolinecolor": "white"
           },
           "zaxis": {
            "backgroundcolor": "#E5ECF6",
            "gridcolor": "white",
            "gridwidth": 2,
            "linecolor": "white",
            "showbackground": true,
            "ticks": "",
            "zerolinecolor": "white"
           }
          },
          "shapedefaults": {
           "line": {
            "color": "#2a3f5f"
           }
          },
          "ternary": {
           "aaxis": {
            "gridcolor": "white",
            "linecolor": "white",
            "ticks": ""
           },
           "baxis": {
            "gridcolor": "white",
            "linecolor": "white",
            "ticks": ""
           },
           "bgcolor": "#E5ECF6",
           "caxis": {
            "gridcolor": "white",
            "linecolor": "white",
            "ticks": ""
           }
          },
          "title": {
           "x": 0.05
          },
          "xaxis": {
           "automargin": true,
           "gridcolor": "white",
           "linecolor": "white",
           "ticks": "",
           "title": {
            "standoff": 15
           },
           "zerolinecolor": "white",
           "zerolinewidth": 2
          },
          "yaxis": {
           "automargin": true,
           "gridcolor": "white",
           "linecolor": "white",
           "ticks": "",
           "title": {
            "standoff": 15
           },
           "zerolinecolor": "white",
           "zerolinewidth": 2
          }
         }
        },
        "title": {
         "text": "Average Annual Salary by Education Level"
        },
        "width": 800,
        "xaxis": {
         "title": {
          "text": "Education Level"
         }
        },
        "yaxis": {
         "title": {
          "text": "Average Annual Salary"
         }
        }
       }
      }
     },
     "metadata": {},
     "output_type": "display_data"
    }
   ],
   "source": [
    "import pandas as pd\n",
    "import plotly.graph_objects as go\n",
    "\n",
    "# Calculate the average 'Annual_Salary' for each 'Education_Level' category\n",
    "average_salary_by_education = salary_data_df.groupby('Education_Level')['Annual_Salary'].mean().round(2)\n",
    "\n",
    "# Calculate the average 'Annual_Salary' for each combination of 'Gender' and 'Education_Level'\n",
    "average_salary_by_gender_education = salary_data_df.groupby(['Gender', 'Education_Level'])['Annual_Salary'].mean().round(2)\n",
    "\n",
    "# Separate the data for Male and Female\n",
    "male_data_df = salary_data_df[salary_data_df['Gender'] == 'Male']\n",
    "female_data_df = salary_data_df[salary_data_df['Gender'] == 'Female']\n",
    "\n",
    "# Create dynamic line graphs using plotly\n",
    "fig = go.Figure()\n",
    "\n",
    "# Plot the average salary by education level for Male employees\n",
    "male_average_salary_by_education = male_data_df.groupby('Education_Level')['Annual_Salary'].mean().round(2)\n",
    "fig.add_trace(go.Scatter(x=male_average_salary_by_education.index,\n",
    "                         y=male_average_salary_by_education.values,\n",
    "                         mode='lines+markers',\n",
    "                         name='Male',\n",
    "                         line=dict(color='blue')))\n",
    "\n",
    "# Plot the average salary by education level for Female employees\n",
    "female_average_salary_by_education = female_data_df.groupby('Education_Level')['Annual_Salary'].mean().round(2)\n",
    "fig.add_trace(go.Scatter(x=female_average_salary_by_education.index,\n",
    "                         y=female_average_salary_by_education.values,\n",
    "                         mode='lines+markers',\n",
    "                         name='Female',\n",
    "                         line=dict(color='red')))\n",
    "\n",
    "# Concatenate the data for 'Overall' (all genders) and plot\n",
    "overall_average_salary_by_education = pd.concat([male_average_salary_by_education, female_average_salary_by_education])\n",
    "overall_average_salary_by_education = overall_average_salary_by_education.groupby(level=0).mean().round(2)\n",
    "\n",
    "fig.add_trace(go.Scatter(x=overall_average_salary_by_education.index,\n",
    "                         y=overall_average_salary_by_education.values,\n",
    "                         mode='lines+markers',\n",
    "                         name='Overall (All Genders)',\n",
    "                         line=dict(color='green', dash='dash')))  # Using 'dash' parameter to make it a dashed line\n",
    "\n",
    "# Set the chart title and labels\n",
    "fig.update_layout(title=\"Average Annual Salary by Education Level\",\n",
    "                  xaxis_title=\"Education Level\",\n",
    "                  yaxis_title=\"Average Annual Salary\",\n",
    "                  legend=dict(x=0.1, y=0.9),\n",
    "                  width=800, height=500)\n",
    "\n",
    "# Show the chart\n",
    "fig.show()\n"
   ]
  },
  {
   "cell_type": "code",
   "execution_count": 103,
   "id": "99d376cc",
   "metadata": {},
   "outputs": [
    {
     "name": "stdout",
     "output_type": "stream",
     "text": [
      "\n",
      "Average Salary by Gender and Years of Experience (Female):\n",
      "Gender  Years_Exp\n",
      "Female  0.0           35000.00\n",
      "        0.5           35000.00\n",
      "        1.0           40000.00\n",
      "        1.5           42500.00\n",
      "        2.0           42500.00\n",
      "        3.0           48571.43\n",
      "        4.0           53333.33\n",
      "        5.0           62272.73\n",
      "        6.0           80000.00\n",
      "        7.0           70000.00\n",
      "        8.0           80000.00\n",
      "        9.0          100000.00\n",
      "        10.0          93181.82\n",
      "        11.0          94000.00\n",
      "        12.0          99090.91\n",
      "        13.0         112857.14\n",
      "        14.0         120000.00\n",
      "        15.0         128000.00\n",
      "        16.0         158571.43\n",
      "        17.0         130000.00\n",
      "        18.0         146000.00\n",
      "        19.0         150000.00\n",
      "        20.0         180000.00\n",
      "        21.0         178000.00\n",
      "        22.0         156000.00\n",
      "        23.0         177500.00\n",
      "        25.0         170000.00\n",
      "Name: Annual_Salary, dtype: float64\n"
     ]
    }
   ],
   "source": [
    "# Filter the DataFrame for 'Female' gender\n",
    "female_data_df = salary_data_df[salary_data_df['Gender'] == 'Female']\n",
    "\n",
    "# Calculate the average 'Annual_Salary' for each combination of 'Gender' and 'Years_Exp' for 'Female' gender\n",
    "average_salary_female_by_experience = female_data_df.groupby(['Gender', 'Years_Exp'])['Annual_Salary'].mean()\n",
    "\n",
    "# Round the average salary to two decimal places\n",
    "average_salary_female_by_experience = average_salary_female_by_experience.round(2)\n",
    "\n",
    "# Print the average salary for each combination of Gender and Years_Exp for 'Female' gender\n",
    "print(\"\\nAverage Salary by Gender and Years of Experience (Female):\")\n",
    "print(average_salary_female_by_experience)"
   ]
  },
  {
   "cell_type": "code",
   "execution_count": 104,
   "id": "9d099b0b",
   "metadata": {},
   "outputs": [
    {
     "name": "stdout",
     "output_type": "stream",
     "text": [
      "\n",
      "Average Salary by Gender and Years of Experience (Male):\n",
      "Gender  Years_Exp\n",
      "Male    0.0           32500.00\n",
      "        1.0           36250.00\n",
      "        1.5           29070.00\n",
      "        2.0           41875.00\n",
      "        3.0           54230.77\n",
      "        4.0           61000.00\n",
      "        5.0           67000.00\n",
      "        6.0           84166.67\n",
      "        7.0           86923.08\n",
      "        8.0           92916.67\n",
      "        9.0          102916.67\n",
      "        10.0         113000.00\n",
      "        11.0         110000.00\n",
      "        12.0         118333.33\n",
      "        13.0         133333.33\n",
      "        14.0         127000.00\n",
      "        15.0         135000.00\n",
      "        16.0         156875.00\n",
      "        17.0         151666.67\n",
      "        18.0         147500.00\n",
      "        19.0         167083.33\n",
      "        20.0         163888.89\n",
      "        21.0         168333.33\n",
      "        22.0         166666.67\n",
      "        24.0         250000.00\n",
      "        25.0         215000.00\n",
      "Name: Annual_Salary, dtype: float64\n"
     ]
    }
   ],
   "source": [
    "# Filter the DataFrame for 'Male' gender\n",
    "male_data_df = salary_data_df[salary_data_df['Gender'] == 'Male']\n",
    "\n",
    "# Calculate the average 'Annual_Salary' for each combination of 'Gender' and 'Years_Exp' for 'Female' gender\n",
    "average_salary_male_by_experience = male_data_df.groupby(['Gender', 'Years_Exp'])['Annual_Salary'].mean()\n",
    "\n",
    "# Round the average salary to two decimal places\n",
    "average_salary_male_by_experience = average_salary_male_by_experience.round(2)\n",
    "\n",
    "# Print the average salary for each combination of Gender and Years_Exp for 'Female' gender\n",
    "print(\"\\nAverage Salary by Gender and Years of Experience (Male):\")\n",
    "print(average_salary_male_by_experience)"
   ]
  },
  {
   "cell_type": "code",
   "execution_count": 105,
   "id": "41edebf9",
   "metadata": {},
   "outputs": [
    {
     "data": {
      "application/vnd.plotly.v1+json": {
       "config": {
        "plotlyServerURL": "https://plot.ly"
       },
       "data": [
        {
         "line": {
          "color": "red"
         },
         "mode": "lines+markers",
         "name": "Female",
         "type": "scatter",
         "x": [
          0,
          0.5,
          1,
          1.5,
          2,
          3,
          4,
          5,
          6,
          7,
          8,
          9,
          10,
          11,
          12,
          13,
          14,
          15,
          16,
          17,
          18,
          19,
          20,
          21,
          22,
          23,
          25
         ],
         "y": [
          35000,
          35000,
          40000,
          42500,
          42500,
          48571.43,
          53333.33,
          62272.73,
          80000,
          70000,
          80000,
          100000,
          93181.82,
          94000,
          99090.91,
          112857.14,
          120000,
          128000,
          158571.43,
          130000,
          146000,
          150000,
          180000,
          178000,
          156000,
          177500,
          170000
         ]
        },
        {
         "line": {
          "color": "blue"
         },
         "mode": "lines+markers",
         "name": "Male",
         "type": "scatter",
         "x": [
          0,
          1,
          1.5,
          2,
          3,
          4,
          5,
          6,
          7,
          8,
          9,
          10,
          11,
          12,
          13,
          14,
          15,
          16,
          17,
          18,
          19,
          20,
          21,
          22,
          24,
          25
         ],
         "y": [
          32500,
          36250,
          29070,
          41875,
          54230.77,
          61000,
          67000,
          84166.67,
          86923.08,
          92916.67,
          102916.67,
          113000,
          110000,
          118333.33,
          133333.33,
          127000,
          135000,
          156875,
          151666.67,
          147500,
          167083.33,
          163888.89,
          168333.33,
          166666.67,
          250000,
          215000
         ]
        },
        {
         "line": {
          "color": "green"
         },
         "mode": "lines+markers",
         "name": "All",
         "type": "scatter",
         "x": [
          0,
          0.5,
          1,
          1.5,
          2,
          3,
          4,
          5,
          6,
          7,
          8,
          9,
          10,
          11,
          12,
          13,
          14,
          15,
          16,
          17,
          18,
          19,
          20,
          21,
          22,
          23,
          24,
          25
         ],
         "y": [
          25000,
          35000,
          37857.142857142855,
          36395.454545454544,
          42115.38461538462,
          51296.2962962963,
          58125,
          63750,
          82272.72727272728,
          83750,
          89117.64705882352,
          101842.1052631579,
          99375,
          101111.11111111111,
          103214.28571428571,
          119000,
          123181.81818181818,
          129166.66666666667,
          157666.66666666666,
          143000,
          146818.18181818182,
          165769.23076923078,
          168846.15384615384,
          172727.27272727274,
          160000,
          177500,
          250000,
          200000
         ]
        }
       ],
       "layout": {
        "height": 500,
        "legend": {
         "x": 0.1,
         "y": 0.9
        },
        "template": {
         "data": {
          "bar": [
           {
            "error_x": {
             "color": "#2a3f5f"
            },
            "error_y": {
             "color": "#2a3f5f"
            },
            "marker": {
             "line": {
              "color": "#E5ECF6",
              "width": 0.5
             },
             "pattern": {
              "fillmode": "overlay",
              "size": 10,
              "solidity": 0.2
             }
            },
            "type": "bar"
           }
          ],
          "barpolar": [
           {
            "marker": {
             "line": {
              "color": "#E5ECF6",
              "width": 0.5
             },
             "pattern": {
              "fillmode": "overlay",
              "size": 10,
              "solidity": 0.2
             }
            },
            "type": "barpolar"
           }
          ],
          "carpet": [
           {
            "aaxis": {
             "endlinecolor": "#2a3f5f",
             "gridcolor": "white",
             "linecolor": "white",
             "minorgridcolor": "white",
             "startlinecolor": "#2a3f5f"
            },
            "baxis": {
             "endlinecolor": "#2a3f5f",
             "gridcolor": "white",
             "linecolor": "white",
             "minorgridcolor": "white",
             "startlinecolor": "#2a3f5f"
            },
            "type": "carpet"
           }
          ],
          "choropleth": [
           {
            "colorbar": {
             "outlinewidth": 0,
             "ticks": ""
            },
            "type": "choropleth"
           }
          ],
          "contour": [
           {
            "colorbar": {
             "outlinewidth": 0,
             "ticks": ""
            },
            "colorscale": [
             [
              0,
              "#0d0887"
             ],
             [
              0.1111111111111111,
              "#46039f"
             ],
             [
              0.2222222222222222,
              "#7201a8"
             ],
             [
              0.3333333333333333,
              "#9c179e"
             ],
             [
              0.4444444444444444,
              "#bd3786"
             ],
             [
              0.5555555555555556,
              "#d8576b"
             ],
             [
              0.6666666666666666,
              "#ed7953"
             ],
             [
              0.7777777777777778,
              "#fb9f3a"
             ],
             [
              0.8888888888888888,
              "#fdca26"
             ],
             [
              1,
              "#f0f921"
             ]
            ],
            "type": "contour"
           }
          ],
          "contourcarpet": [
           {
            "colorbar": {
             "outlinewidth": 0,
             "ticks": ""
            },
            "type": "contourcarpet"
           }
          ],
          "heatmap": [
           {
            "colorbar": {
             "outlinewidth": 0,
             "ticks": ""
            },
            "colorscale": [
             [
              0,
              "#0d0887"
             ],
             [
              0.1111111111111111,
              "#46039f"
             ],
             [
              0.2222222222222222,
              "#7201a8"
             ],
             [
              0.3333333333333333,
              "#9c179e"
             ],
             [
              0.4444444444444444,
              "#bd3786"
             ],
             [
              0.5555555555555556,
              "#d8576b"
             ],
             [
              0.6666666666666666,
              "#ed7953"
             ],
             [
              0.7777777777777778,
              "#fb9f3a"
             ],
             [
              0.8888888888888888,
              "#fdca26"
             ],
             [
              1,
              "#f0f921"
             ]
            ],
            "type": "heatmap"
           }
          ],
          "heatmapgl": [
           {
            "colorbar": {
             "outlinewidth": 0,
             "ticks": ""
            },
            "colorscale": [
             [
              0,
              "#0d0887"
             ],
             [
              0.1111111111111111,
              "#46039f"
             ],
             [
              0.2222222222222222,
              "#7201a8"
             ],
             [
              0.3333333333333333,
              "#9c179e"
             ],
             [
              0.4444444444444444,
              "#bd3786"
             ],
             [
              0.5555555555555556,
              "#d8576b"
             ],
             [
              0.6666666666666666,
              "#ed7953"
             ],
             [
              0.7777777777777778,
              "#fb9f3a"
             ],
             [
              0.8888888888888888,
              "#fdca26"
             ],
             [
              1,
              "#f0f921"
             ]
            ],
            "type": "heatmapgl"
           }
          ],
          "histogram": [
           {
            "marker": {
             "pattern": {
              "fillmode": "overlay",
              "size": 10,
              "solidity": 0.2
             }
            },
            "type": "histogram"
           }
          ],
          "histogram2d": [
           {
            "colorbar": {
             "outlinewidth": 0,
             "ticks": ""
            },
            "colorscale": [
             [
              0,
              "#0d0887"
             ],
             [
              0.1111111111111111,
              "#46039f"
             ],
             [
              0.2222222222222222,
              "#7201a8"
             ],
             [
              0.3333333333333333,
              "#9c179e"
             ],
             [
              0.4444444444444444,
              "#bd3786"
             ],
             [
              0.5555555555555556,
              "#d8576b"
             ],
             [
              0.6666666666666666,
              "#ed7953"
             ],
             [
              0.7777777777777778,
              "#fb9f3a"
             ],
             [
              0.8888888888888888,
              "#fdca26"
             ],
             [
              1,
              "#f0f921"
             ]
            ],
            "type": "histogram2d"
           }
          ],
          "histogram2dcontour": [
           {
            "colorbar": {
             "outlinewidth": 0,
             "ticks": ""
            },
            "colorscale": [
             [
              0,
              "#0d0887"
             ],
             [
              0.1111111111111111,
              "#46039f"
             ],
             [
              0.2222222222222222,
              "#7201a8"
             ],
             [
              0.3333333333333333,
              "#9c179e"
             ],
             [
              0.4444444444444444,
              "#bd3786"
             ],
             [
              0.5555555555555556,
              "#d8576b"
             ],
             [
              0.6666666666666666,
              "#ed7953"
             ],
             [
              0.7777777777777778,
              "#fb9f3a"
             ],
             [
              0.8888888888888888,
              "#fdca26"
             ],
             [
              1,
              "#f0f921"
             ]
            ],
            "type": "histogram2dcontour"
           }
          ],
          "mesh3d": [
           {
            "colorbar": {
             "outlinewidth": 0,
             "ticks": ""
            },
            "type": "mesh3d"
           }
          ],
          "parcoords": [
           {
            "line": {
             "colorbar": {
              "outlinewidth": 0,
              "ticks": ""
             }
            },
            "type": "parcoords"
           }
          ],
          "pie": [
           {
            "automargin": true,
            "type": "pie"
           }
          ],
          "scatter": [
           {
            "fillpattern": {
             "fillmode": "overlay",
             "size": 10,
             "solidity": 0.2
            },
            "type": "scatter"
           }
          ],
          "scatter3d": [
           {
            "line": {
             "colorbar": {
              "outlinewidth": 0,
              "ticks": ""
             }
            },
            "marker": {
             "colorbar": {
              "outlinewidth": 0,
              "ticks": ""
             }
            },
            "type": "scatter3d"
           }
          ],
          "scattercarpet": [
           {
            "marker": {
             "colorbar": {
              "outlinewidth": 0,
              "ticks": ""
             }
            },
            "type": "scattercarpet"
           }
          ],
          "scattergeo": [
           {
            "marker": {
             "colorbar": {
              "outlinewidth": 0,
              "ticks": ""
             }
            },
            "type": "scattergeo"
           }
          ],
          "scattergl": [
           {
            "marker": {
             "colorbar": {
              "outlinewidth": 0,
              "ticks": ""
             }
            },
            "type": "scattergl"
           }
          ],
          "scattermapbox": [
           {
            "marker": {
             "colorbar": {
              "outlinewidth": 0,
              "ticks": ""
             }
            },
            "type": "scattermapbox"
           }
          ],
          "scatterpolar": [
           {
            "marker": {
             "colorbar": {
              "outlinewidth": 0,
              "ticks": ""
             }
            },
            "type": "scatterpolar"
           }
          ],
          "scatterpolargl": [
           {
            "marker": {
             "colorbar": {
              "outlinewidth": 0,
              "ticks": ""
             }
            },
            "type": "scatterpolargl"
           }
          ],
          "scatterternary": [
           {
            "marker": {
             "colorbar": {
              "outlinewidth": 0,
              "ticks": ""
             }
            },
            "type": "scatterternary"
           }
          ],
          "surface": [
           {
            "colorbar": {
             "outlinewidth": 0,
             "ticks": ""
            },
            "colorscale": [
             [
              0,
              "#0d0887"
             ],
             [
              0.1111111111111111,
              "#46039f"
             ],
             [
              0.2222222222222222,
              "#7201a8"
             ],
             [
              0.3333333333333333,
              "#9c179e"
             ],
             [
              0.4444444444444444,
              "#bd3786"
             ],
             [
              0.5555555555555556,
              "#d8576b"
             ],
             [
              0.6666666666666666,
              "#ed7953"
             ],
             [
              0.7777777777777778,
              "#fb9f3a"
             ],
             [
              0.8888888888888888,
              "#fdca26"
             ],
             [
              1,
              "#f0f921"
             ]
            ],
            "type": "surface"
           }
          ],
          "table": [
           {
            "cells": {
             "fill": {
              "color": "#EBF0F8"
             },
             "line": {
              "color": "white"
             }
            },
            "header": {
             "fill": {
              "color": "#C8D4E3"
             },
             "line": {
              "color": "white"
             }
            },
            "type": "table"
           }
          ]
         },
         "layout": {
          "annotationdefaults": {
           "arrowcolor": "#2a3f5f",
           "arrowhead": 0,
           "arrowwidth": 1
          },
          "autotypenumbers": "strict",
          "coloraxis": {
           "colorbar": {
            "outlinewidth": 0,
            "ticks": ""
           }
          },
          "colorscale": {
           "diverging": [
            [
             0,
             "#8e0152"
            ],
            [
             0.1,
             "#c51b7d"
            ],
            [
             0.2,
             "#de77ae"
            ],
            [
             0.3,
             "#f1b6da"
            ],
            [
             0.4,
             "#fde0ef"
            ],
            [
             0.5,
             "#f7f7f7"
            ],
            [
             0.6,
             "#e6f5d0"
            ],
            [
             0.7,
             "#b8e186"
            ],
            [
             0.8,
             "#7fbc41"
            ],
            [
             0.9,
             "#4d9221"
            ],
            [
             1,
             "#276419"
            ]
           ],
           "sequential": [
            [
             0,
             "#0d0887"
            ],
            [
             0.1111111111111111,
             "#46039f"
            ],
            [
             0.2222222222222222,
             "#7201a8"
            ],
            [
             0.3333333333333333,
             "#9c179e"
            ],
            [
             0.4444444444444444,
             "#bd3786"
            ],
            [
             0.5555555555555556,
             "#d8576b"
            ],
            [
             0.6666666666666666,
             "#ed7953"
            ],
            [
             0.7777777777777778,
             "#fb9f3a"
            ],
            [
             0.8888888888888888,
             "#fdca26"
            ],
            [
             1,
             "#f0f921"
            ]
           ],
           "sequentialminus": [
            [
             0,
             "#0d0887"
            ],
            [
             0.1111111111111111,
             "#46039f"
            ],
            [
             0.2222222222222222,
             "#7201a8"
            ],
            [
             0.3333333333333333,
             "#9c179e"
            ],
            [
             0.4444444444444444,
             "#bd3786"
            ],
            [
             0.5555555555555556,
             "#d8576b"
            ],
            [
             0.6666666666666666,
             "#ed7953"
            ],
            [
             0.7777777777777778,
             "#fb9f3a"
            ],
            [
             0.8888888888888888,
             "#fdca26"
            ],
            [
             1,
             "#f0f921"
            ]
           ]
          },
          "colorway": [
           "#636efa",
           "#EF553B",
           "#00cc96",
           "#ab63fa",
           "#FFA15A",
           "#19d3f3",
           "#FF6692",
           "#B6E880",
           "#FF97FF",
           "#FECB52"
          ],
          "font": {
           "color": "#2a3f5f"
          },
          "geo": {
           "bgcolor": "white",
           "lakecolor": "white",
           "landcolor": "#E5ECF6",
           "showlakes": true,
           "showland": true,
           "subunitcolor": "white"
          },
          "hoverlabel": {
           "align": "left"
          },
          "hovermode": "closest",
          "mapbox": {
           "style": "light"
          },
          "paper_bgcolor": "white",
          "plot_bgcolor": "#E5ECF6",
          "polar": {
           "angularaxis": {
            "gridcolor": "white",
            "linecolor": "white",
            "ticks": ""
           },
           "bgcolor": "#E5ECF6",
           "radialaxis": {
            "gridcolor": "white",
            "linecolor": "white",
            "ticks": ""
           }
          },
          "scene": {
           "xaxis": {
            "backgroundcolor": "#E5ECF6",
            "gridcolor": "white",
            "gridwidth": 2,
            "linecolor": "white",
            "showbackground": true,
            "ticks": "",
            "zerolinecolor": "white"
           },
           "yaxis": {
            "backgroundcolor": "#E5ECF6",
            "gridcolor": "white",
            "gridwidth": 2,
            "linecolor": "white",
            "showbackground": true,
            "ticks": "",
            "zerolinecolor": "white"
           },
           "zaxis": {
            "backgroundcolor": "#E5ECF6",
            "gridcolor": "white",
            "gridwidth": 2,
            "linecolor": "white",
            "showbackground": true,
            "ticks": "",
            "zerolinecolor": "white"
           }
          },
          "shapedefaults": {
           "line": {
            "color": "#2a3f5f"
           }
          },
          "ternary": {
           "aaxis": {
            "gridcolor": "white",
            "linecolor": "white",
            "ticks": ""
           },
           "baxis": {
            "gridcolor": "white",
            "linecolor": "white",
            "ticks": ""
           },
           "bgcolor": "#E5ECF6",
           "caxis": {
            "gridcolor": "white",
            "linecolor": "white",
            "ticks": ""
           }
          },
          "title": {
           "x": 0.05
          },
          "xaxis": {
           "automargin": true,
           "gridcolor": "white",
           "linecolor": "white",
           "ticks": "",
           "title": {
            "standoff": 15
           },
           "zerolinecolor": "white",
           "zerolinewidth": 2
          },
          "yaxis": {
           "automargin": true,
           "gridcolor": "white",
           "linecolor": "white",
           "ticks": "",
           "title": {
            "standoff": 15
           },
           "zerolinecolor": "white",
           "zerolinewidth": 2
          }
         }
        },
        "title": {
         "text": "Average Annual Salary by Years of Experience"
        },
        "width": 800,
        "xaxis": {
         "title": {
          "text": "Years of Experience"
         }
        },
        "yaxis": {
         "title": {
          "text": "Average Annual Salary"
         }
        }
       }
      }
     },
     "metadata": {},
     "output_type": "display_data"
    }
   ],
   "source": [
    "import pandas as pd\n",
    "import plotly.graph_objects as go\n",
    "\n",
    "# Calculate the average 'Annual_Salary' for each combination of 'Gender' and 'Years_Exp'\n",
    "average_salary_by_gender_experience = salary_data_df.groupby(['Gender', 'Years_Exp'])['Annual_Salary'].mean()\n",
    "\n",
    "# Reset the index for plotting\n",
    "average_salary_by_gender_experience = average_salary_by_gender_experience.reset_index()\n",
    "\n",
    "# Round the average salary to two decimal places\n",
    "average_salary_by_gender_experience['Annual_Salary'] = average_salary_by_gender_experience['Annual_Salary'].round(2)\n",
    "\n",
    "# Separate the data for Female and Male employees\n",
    "female_data_df = average_salary_by_gender_experience[average_salary_by_gender_experience['Gender'] == 'Female']\n",
    "male_data_df = average_salary_by_gender_experience[average_salary_by_gender_experience['Gender'] == 'Male']\n",
    "\n",
    "# Check if data is available for Female and Male employees\n",
    "if not female_data_df.empty:\n",
    "    fig = go.Figure()\n",
    "    fig.add_trace(go.Scatter(x=female_data_df['Years_Exp'], y=female_data_df['Annual_Salary'],\n",
    "                             mode='lines+markers', name='Female', line=dict(color='red')))\n",
    "\n",
    "if not male_data_df.empty:\n",
    "    fig.add_trace(go.Scatter(x=male_data_df['Years_Exp'], y=male_data_df['Annual_Salary'],\n",
    "                             mode='lines+markers', name='Male', line=dict(color='blue')))\n",
    "\n",
    "# Plot the average salary for all employees (both genders)\n",
    "average_salary_all_by_years_exp = salary_data_df.groupby('Years_Exp')['Annual_Salary'].mean().reset_index()\n",
    "fig.add_trace(go.Scatter(x=average_salary_all_by_years_exp['Years_Exp'],\n",
    "                         y=average_salary_all_by_years_exp['Annual_Salary'],\n",
    "                         mode='lines+markers', name='All', line=dict(color='green')))\n",
    "\n",
    "# Set the chart title and labels\n",
    "fig.update_layout(title=\"Average Annual Salary by Years of Experience\",\n",
    "                  xaxis_title=\"Years of Experience\",\n",
    "                  yaxis_title=\"Average Annual Salary\",\n",
    "                  legend=dict(x=0.1, y=0.9),\n",
    "                  width=800, height=500)\n",
    "\n",
    "# Show the chart\n",
    "fig.show()\n"
   ]
  },
  {
   "cell_type": "code",
   "execution_count": 106,
   "id": "4aede536",
   "metadata": {},
   "outputs": [
    {
     "name": "stdout",
     "output_type": "stream",
     "text": [
      "\n",
      "Average Salary by Job Title Level:\n",
      "Job_Title\n",
      "0                                0.0\n",
      "Account Manager              75000.0\n",
      "Accountant                   55000.0\n",
      "Administrative Assistant     50000.0\n",
      "Business Analyst             77500.0\n",
      "                              ...   \n",
      "UX Designer                  80000.0\n",
      "UX Researcher                65000.0\n",
      "VP of Finance               200000.0\n",
      "VP of Operations            190000.0\n",
      "Web Developer                65000.0\n",
      "Name: Annual_Salary, Length: 175, dtype: float64\n"
     ]
    }
   ],
   "source": [
    "# Calculate the average 'Annual_Salary' for each 'Job_Title' category\n",
    "average_salary_by_job_title = salary_data_df.groupby('Job_Title')['Annual_Salary'].mean()\n",
    "# Round the average salary to two decimal places\n",
    "average_salary_by_job_title = average_salary_by_job_title.round(2)\n",
    "# Print the average salary for each education level category\n",
    "print(\"\\nAverage Salary by Job Title Level:\")\n",
    "print(average_salary_by_job_title)"
   ]
  },
  {
   "cell_type": "code",
   "execution_count": 107,
   "id": "2701187b",
   "metadata": {},
   "outputs": [
    {
     "data": {
      "image/png": "[encoded data removed]",
      "text/plain": [
       "<Figure size 1200x600 with 1 Axes>"
      ]
     },
     "metadata": {},
     "output_type": "display_data"
    }
   ],
   "source": [
    "import matplotlib.pyplot as plt\n",
    "# Sort the average_salary_by_job_title in descending order\n",
    "sorted_average_salary = average_salary_by_job_title.sort_values(ascending=False)\n",
    "\n",
    "# Get the top 20 job titles and their average salaries\n",
    "top_10_titles = sorted_average_salary.head(20)\n",
    "\n",
    "# Create a bar chart for the top 10 job titles\n",
    "plt.figure(figsize=(12, 6))\n",
    "plt.bar(top_10_titles.index, top_10_titles.values)\n",
    "plt.xlabel('Job Title')\n",
    "plt.ylabel('Average Annual Salary')\n",
    "plt.title('Top 20 Average Annual Salaries by Job Title')\n",
    "plt.xticks(rotation=45, ha='right')  # Rotate the x-axis labels for better visibility\n",
    "\n",
    "# Show the chart\n",
    "plt.tight_layout()\n",
    "plt.show()"
   ]
  },
  {
   "cell_type": "code",
   "execution_count": 108,
   "id": "5d478467",
   "metadata": {},
   "outputs": [
    {
     "data": {
      "image/png": "[encoded data removed]",
      "text/plain": [
       "<Figure size 1200x600 with 1 Axes>"
      ]
     },
     "metadata": {},
     "output_type": "display_data"
    }
   ],
   "source": [
    "import matplotlib.pyplot as plt\n",
    "\n",
    "# Get the bottom 20 job titles and their average salaries\n",
    "bottom_20_titles = sorted_average_salary.tail(20)\n",
    "\n",
    "# Create a bar chart for the bottom 20 job titles\n",
    "fig, ax = plt.subplots(figsize=(12, 6))\n",
    "\n",
    "def update(frame):\n",
    "    ax.clear()\n",
    "    ax.bar(bottom_20_titles.index.astype(str)[:frame+1], bottom_20_titles.values[:frame+1])\n",
    "    ax.set_xlabel('Job Title')\n",
    "    ax.set_ylabel('Average Annual Salary')\n",
    "    ax.set_title('Bottom 20 Average Annual Salaries by Job Title')\n",
    "    ax.tick_params(axis='x', rotation=45, ha='right')\n",
    "    ax.set_ylim(0, bottom_20_titles.max() + 1000)  # Adjust y-axis limit for better visualization\n",
    "\n",
    "# If you want to display a static plot (last frame of the animation), use the following line:\n",
    "plt.bar(bottom_20_titles.index.astype(str), bottom_20_titles.values)\n",
    "plt.xlabel('Job Title')\n",
    "plt.ylabel('Average Annual Salary')\n",
    "plt.title('Bottom 20 Average Annual Salaries by Job Title')\n",
    "plt.xticks(rotation=45, ha='right')\n",
    "plt.tight_layout()\n",
    "plt.show()\n"
   ]
  },
  {
   "cell_type": "code",
   "execution_count": 109,
   "id": "0da43c54",
   "metadata": {},
   "outputs": [
    {
     "name": "stdout",
     "output_type": "stream",
     "text": [
      "\n",
      "Average Annual Salary by Experience Level:\n",
      "Years_Exp\n",
      "0.0      25000.00\n",
      "0.5      35000.00\n",
      "1.0      37857.14\n",
      "1.5      36395.45\n",
      "2.0      42115.38\n",
      "3.0      51296.30\n",
      "4.0      58125.00\n",
      "5.0      63750.00\n",
      "6.0      82272.73\n",
      "7.0      83750.00\n",
      "8.0      89117.65\n",
      "9.0     101842.11\n",
      "10.0     99375.00\n",
      "11.0    101111.11\n",
      "12.0    103214.29\n",
      "13.0    119000.00\n",
      "14.0    123181.82\n",
      "15.0    129166.67\n",
      "16.0    157666.67\n",
      "17.0    143000.00\n",
      "18.0    146818.18\n",
      "19.0    165769.23\n",
      "20.0    168846.15\n",
      "21.0    172727.27\n",
      "22.0    160000.00\n",
      "23.0    177500.00\n",
      "24.0    250000.00\n",
      "25.0    200000.00\n",
      "Name: Annual_Salary, dtype: float64\n"
     ]
    }
   ],
   "source": [
    "# Calculate the average 'Annual_Salary' for each 'Years_Exp' category\n",
    "average_salary_by_experience = salary_data_df.groupby('Years_Exp')['Annual_Salary'].mean()\n",
    "# Round the average salary to two decimal places\n",
    "average_salary_by_experience = average_salary_by_experience.round(2)\n",
    "# Print the average salary for each experience level category\n",
    "print(\"\\nAverage Annual Salary by Experience Level:\")\n",
    "print(average_salary_by_experience)\n"
   ]
  },
  {
   "cell_type": "code",
   "execution_count": 110,
   "id": "eadfaea9",
   "metadata": {},
   "outputs": [
    {
     "name": "stdout",
     "output_type": "stream",
     "text": [
      "\n",
      "Average  Annual Salary by Education Level:\n",
      "Education_Level\n",
      "0                  0.00\n",
      "Bachelor's     73902.36\n",
      "Master's      127912.09\n",
      "PhD           158095.24\n",
      "Name: Annual_Salary, dtype: float64\n"
     ]
    }
   ],
   "source": [
    "# Calculate the average 'Annual_Salary' for each 'Education_Level' category\n",
    "average_salary_by_education = salary_data_df.groupby('Education_Level')['Annual_Salary'].mean()\n",
    "# Round the average salary to two decimal places\n",
    "average_salary_by_education = average_salary_by_education.round(2)\n",
    "# Print the average salary for each education level category\n",
    "print(\"\\nAverage  Annual Salary by Education Level:\")\n",
    "print(average_salary_by_education)"
   ]
  },
  {
   "cell_type": "code",
   "execution_count": 111,
   "id": "e406d622",
   "metadata": {},
   "outputs": [
    {
     "data": {
      "text/plain": [
       "Age                float64\n",
       "Gender              object\n",
       "Education_Level     object\n",
       "Job_Title           object\n",
       "Years_Exp          float64\n",
       "Annual_Salary      float64\n",
       "dtype: object"
      ]
     },
     "execution_count": 111,
     "metadata": {},
     "output_type": "execute_result"
    }
   ],
   "source": [
    "salary_data_df.dtypes"
   ]
  },
  {
   "cell_type": "code",
   "execution_count": null,
   "id": "76dc2f8a",
   "metadata": {},
   "outputs": [],
   "source": []
  },
  {
   "cell_type": "code",
   "execution_count": null,
   "id": "9aa08511",
   "metadata": {},
   "outputs": [],
   "source": []
  },
  {
   "cell_type": "code",
   "execution_count": null,
   "id": "0dfb1982",
   "metadata": {},
   "outputs": [],
   "source": []
  },
  {
   "cell_type": "code",
   "execution_count": null,
   "id": "b43b9652",
   "metadata": {},
   "outputs": [],
   "source": []
  }
 ],
 "metadata": {
  "kernelspec": {
   "display_name": "base",
   "language": "python",
   "name": "python3"
  },
  "language_info": {
   "codemirror_mode": {
    "name": "ipython",
    "version": 3
   },
   "file_extension": ".py",
   "mimetype": "text/x-python",
   "name": "python",
   "nbconvert_exporter": "python",
   "pygments_lexer": "ipython3",
   "version": "3.9.13"
  }
 },
 "nbformat": 4,
 "nbformat_minor": 5
}
